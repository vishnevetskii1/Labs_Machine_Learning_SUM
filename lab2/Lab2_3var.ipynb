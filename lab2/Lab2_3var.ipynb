{
  "nbformat": 4,
  "nbformat_minor": 0,
  "metadata": {
    "colab": {
      "provenance": [],
      "authorship_tag": "ABX9TyP7pAnQABuid+GyV5zO6EKX",
      "include_colab_link": true
    },
    "kernelspec": {
      "name": "python3",
      "display_name": "Python 3"
    },
    "language_info": {
      "name": "python"
    }
  },
  "cells": [
    {
      "cell_type": "markdown",
      "metadata": {
        "id": "view-in-github",
        "colab_type": "text"
      },
      "source": [
        "<a href=\"https://colab.research.google.com/github/Passssa/lolkek/blob/main/lab2/Lab2_3var.ipynb\" target=\"_parent\"><img src=\"https://colab.research.google.com/assets/colab-badge.svg\" alt=\"Open In Colab\"/></a>"
      ]
    },
    {
      "cell_type": "markdown",
      "source": [
        "### `Дисциплина: Методы и технологии машинного обучения`   \n",
        "`Уровень подготовки: бакалавриат`   \n",
        "`Направление подготовки: 01.03.02 Прикладная математика и информатика`   \n",
        "`Семестр: осень 2022/2023`   \n",
        "`Выполнил Вишневецкий Денис (3 вариант)` \n",
        "\n",
        "\n",
        "# Лабораторная работа №3: Линейные модели. Кросс-валидация. \n",
        "\n",
        "\n",
        "*Модели*: множественная линейная регрессия \n",
        "\n",
        "*Данные*: `insurance` (источник: <https://www.kaggle.com/mirichoi0218/insurance/version/1>)"
      ],
      "metadata": {
        "id": "M34d9zEdt3yp"
      }
    },
    {
      "cell_type": "code",
      "source": [
        "# Загружаем нужные пакеты:\n",
        "\n",
        "# загрузка пакетов: инструменты --------------------------------------------\n",
        "#  работа с массивами\n",
        "import numpy as np\n",
        "#  фреймы данных\n",
        "import pandas as pd\n",
        "#  графики\n",
        "import matplotlib as mpl\n",
        "#  стили и шаблоны графиков на основе matplotlib\n",
        "import seaborn as sns\n",
        "# перекодировка категориальных переменных\n",
        "from sklearn.preprocessing import LabelEncoder\n",
        "#  тест Шапиро-Уилка на нормальность распределения\n",
        "from scipy.stats import shapiro\n",
        "#  для таймера\n",
        "import time\n",
        "\n",
        "# загрузка пакетов: модели -------------------------------------------------\n",
        "#  линейные модели\n",
        "import sklearn.linear_model as skl_lm\n",
        "#  расчёт MSE\n",
        "from sklearn.metrics import mean_squared_error\n",
        "#  кросс-валидация\n",
        "from sklearn.model_selection import train_test_split, LeaveOneOut \n",
        "from sklearn.model_selection import KFold, cross_val_score\n",
        "#  полиномиальные модели\n",
        "from sklearn.preprocessing import PolynomialFeatures\n",
        "\n",
        "# константы\n",
        "#  ядро для генератора случайных чисел\n",
        "my_seed = 9212\n",
        "#  создаём псевдоним для короткого обращения к графикам\n",
        "plt = mpl.pyplot\n",
        "# настройка стиля и отображения графиков\n",
        "#  примеры стилей и шаблонов графиков: \n",
        "#  http://tonysyu.github.io/raw_content/matplotlib-style-gallery/gallery.html\n",
        "mpl.style.use('seaborn-whitegrid')\n",
        "sns.set_palette(\"Set2\")\n",
        "# раскомментируйте следующую строку, чтобы посмотреть палитру\n",
        "# sns.color_palette(\"Set2\")"
      ],
      "metadata": {
        "id": "7PTSGYtDue8w"
      },
      "execution_count": null,
      "outputs": []
    },
    {
      "cell_type": "markdown",
      "source": [
        "### Далее загрузим наши данные для работы\n",
        "\n",
        "Набор данных `insurance` в формате .csv доступен для загрузки по адресу: <https://raw.githubusercontent.com/ania607/ML/main/data/insurance.csv>. \n",
        "Загружаем данные во фрейм и кодируем категориальные переменные.  "
      ],
      "metadata": {
        "id": "vmFnogxDvamI"
      }
    },
    {
      "cell_type": "code",
      "source": [
        "# читаем таблицу расширения .csv во фрейм\n",
        "DF_raw = pd.read_csv('https://raw.githubusercontent.com/ania607/ML/main/data/Boston_for_lab.csv')\n",
        "\n",
        "# выясняем размерность фрейма\n",
        "DF_raw.shape"
      ],
      "metadata": {
        "colab": {
          "base_uri": "https://localhost:8080/"
        },
        "id": "d807W4gvvv3Q",
        "outputId": "28c670bb-31a2-423d-ab42-13291ae559e2"
      },
      "execution_count": null,
      "outputs": [
        {
          "output_type": "execute_result",
          "data": {
            "text/plain": [
              "(506, 15)"
            ]
          },
          "metadata": {},
          "execution_count": 47
        }
      ]
    },
    {
      "cell_type": "code",
      "source": [
        "# выводим первые несколько строк таблицы\n",
        "DF_raw.head(5)\n"
      ],
      "metadata": {
        "colab": {
          "base_uri": "https://localhost:8080/"
        },
        "id": "ggmbvdXcwIu5",
        "outputId": "2e52504b-412e-4068-d6c9-f396f480fed0"
      },
      "execution_count": null,
      "outputs": [
        {
          "output_type": "execute_result",
          "data": {
            "text/plain": [
              "      crim    zn  indus  chas    nox     rm   age     dis  rad  tax  ptratio  \\\n",
              "0  0.00632  18.0   2.31     0  0.538  6.575  65.2  4.0900    1  296     15.3   \n",
              "1  0.02731   0.0   7.07     0  0.469  6.421  78.9  4.9671    2  242     17.8   \n",
              "2  0.02729   0.0   7.07     0  0.469  7.185  61.1  4.9671    2  242     17.8   \n",
              "3  0.03237   0.0   2.18     0  0.458  6.998  45.8  6.0622    3  222     18.7   \n",
              "4  0.06905   0.0   2.18     0  0.458  7.147  54.2  6.0622    3  222     18.7   \n",
              "\n",
              "    black  lstat  medv  tax_over_400  \n",
              "0  396.90   4.98  24.0             0  \n",
              "1  396.90   9.14  21.6             0  \n",
              "2  392.83   4.03  34.7             0  \n",
              "3  394.63   2.94  33.4             0  \n",
              "4  396.90   5.33  36.2             0  "
            ],
            "text/html": [
              "\n",
              "  <div id=\"df-36ab3225-52f6-4b24-973f-eef391562b88\">\n",
              "    <div class=\"colab-df-container\">\n",
              "      <div>\n",
              "<style scoped>\n",
              "    .dataframe tbody tr th:only-of-type {\n",
              "        vertical-align: middle;\n",
              "    }\n",
              "\n",
              "    .dataframe tbody tr th {\n",
              "        vertical-align: top;\n",
              "    }\n",
              "\n",
              "    .dataframe thead th {\n",
              "        text-align: right;\n",
              "    }\n",
              "</style>\n",
              "<table border=\"1\" class=\"dataframe\">\n",
              "  <thead>\n",
              "    <tr style=\"text-align: right;\">\n",
              "      <th></th>\n",
              "      <th>crim</th>\n",
              "      <th>zn</th>\n",
              "      <th>indus</th>\n",
              "      <th>chas</th>\n",
              "      <th>nox</th>\n",
              "      <th>rm</th>\n",
              "      <th>age</th>\n",
              "      <th>dis</th>\n",
              "      <th>rad</th>\n",
              "      <th>tax</th>\n",
              "      <th>ptratio</th>\n",
              "      <th>black</th>\n",
              "      <th>lstat</th>\n",
              "      <th>medv</th>\n",
              "      <th>tax_over_400</th>\n",
              "    </tr>\n",
              "  </thead>\n",
              "  <tbody>\n",
              "    <tr>\n",
              "      <th>0</th>\n",
              "      <td>0.00632</td>\n",
              "      <td>18.0</td>\n",
              "      <td>2.31</td>\n",
              "      <td>0</td>\n",
              "      <td>0.538</td>\n",
              "      <td>6.575</td>\n",
              "      <td>65.2</td>\n",
              "      <td>4.0900</td>\n",
              "      <td>1</td>\n",
              "      <td>296</td>\n",
              "      <td>15.3</td>\n",
              "      <td>396.90</td>\n",
              "      <td>4.98</td>\n",
              "      <td>24.0</td>\n",
              "      <td>0</td>\n",
              "    </tr>\n",
              "    <tr>\n",
              "      <th>1</th>\n",
              "      <td>0.02731</td>\n",
              "      <td>0.0</td>\n",
              "      <td>7.07</td>\n",
              "      <td>0</td>\n",
              "      <td>0.469</td>\n",
              "      <td>6.421</td>\n",
              "      <td>78.9</td>\n",
              "      <td>4.9671</td>\n",
              "      <td>2</td>\n",
              "      <td>242</td>\n",
              "      <td>17.8</td>\n",
              "      <td>396.90</td>\n",
              "      <td>9.14</td>\n",
              "      <td>21.6</td>\n",
              "      <td>0</td>\n",
              "    </tr>\n",
              "    <tr>\n",
              "      <th>2</th>\n",
              "      <td>0.02729</td>\n",
              "      <td>0.0</td>\n",
              "      <td>7.07</td>\n",
              "      <td>0</td>\n",
              "      <td>0.469</td>\n",
              "      <td>7.185</td>\n",
              "      <td>61.1</td>\n",
              "      <td>4.9671</td>\n",
              "      <td>2</td>\n",
              "      <td>242</td>\n",
              "      <td>17.8</td>\n",
              "      <td>392.83</td>\n",
              "      <td>4.03</td>\n",
              "      <td>34.7</td>\n",
              "      <td>0</td>\n",
              "    </tr>\n",
              "    <tr>\n",
              "      <th>3</th>\n",
              "      <td>0.03237</td>\n",
              "      <td>0.0</td>\n",
              "      <td>2.18</td>\n",
              "      <td>0</td>\n",
              "      <td>0.458</td>\n",
              "      <td>6.998</td>\n",
              "      <td>45.8</td>\n",
              "      <td>6.0622</td>\n",
              "      <td>3</td>\n",
              "      <td>222</td>\n",
              "      <td>18.7</td>\n",
              "      <td>394.63</td>\n",
              "      <td>2.94</td>\n",
              "      <td>33.4</td>\n",
              "      <td>0</td>\n",
              "    </tr>\n",
              "    <tr>\n",
              "      <th>4</th>\n",
              "      <td>0.06905</td>\n",
              "      <td>0.0</td>\n",
              "      <td>2.18</td>\n",
              "      <td>0</td>\n",
              "      <td>0.458</td>\n",
              "      <td>7.147</td>\n",
              "      <td>54.2</td>\n",
              "      <td>6.0622</td>\n",
              "      <td>3</td>\n",
              "      <td>222</td>\n",
              "      <td>18.7</td>\n",
              "      <td>396.90</td>\n",
              "      <td>5.33</td>\n",
              "      <td>36.2</td>\n",
              "      <td>0</td>\n",
              "    </tr>\n",
              "  </tbody>\n",
              "</table>\n",
              "</div>\n",
              "      <button class=\"colab-df-convert\" onclick=\"convertToInteractive('df-36ab3225-52f6-4b24-973f-eef391562b88')\"\n",
              "              title=\"Convert this dataframe to an interactive table.\"\n",
              "              style=\"display:none;\">\n",
              "        \n",
              "  <svg xmlns=\"http://www.w3.org/2000/svg\" height=\"24px\"viewBox=\"0 0 24 24\"\n",
              "       width=\"24px\">\n",
              "    <path d=\"M0 0h24v24H0V0z\" fill=\"none\"/>\n",
              "    <path d=\"M18.56 5.44l.94 2.06.94-2.06 2.06-.94-2.06-.94-.94-2.06-.94 2.06-2.06.94zm-11 1L8.5 8.5l.94-2.06 2.06-.94-2.06-.94L8.5 2.5l-.94 2.06-2.06.94zm10 10l.94 2.06.94-2.06 2.06-.94-2.06-.94-.94-2.06-.94 2.06-2.06.94z\"/><path d=\"M17.41 7.96l-1.37-1.37c-.4-.4-.92-.59-1.43-.59-.52 0-1.04.2-1.43.59L10.3 9.45l-7.72 7.72c-.78.78-.78 2.05 0 2.83L4 21.41c.39.39.9.59 1.41.59.51 0 1.02-.2 1.41-.59l7.78-7.78 2.81-2.81c.8-.78.8-2.07 0-2.86zM5.41 20L4 18.59l7.72-7.72 1.47 1.35L5.41 20z\"/>\n",
              "  </svg>\n",
              "      </button>\n",
              "      \n",
              "  <style>\n",
              "    .colab-df-container {\n",
              "      display:flex;\n",
              "      flex-wrap:wrap;\n",
              "      gap: 12px;\n",
              "    }\n",
              "\n",
              "    .colab-df-convert {\n",
              "      background-color: #E8F0FE;\n",
              "      border: none;\n",
              "      border-radius: 50%;\n",
              "      cursor: pointer;\n",
              "      display: none;\n",
              "      fill: #1967D2;\n",
              "      height: 32px;\n",
              "      padding: 0 0 0 0;\n",
              "      width: 32px;\n",
              "    }\n",
              "\n",
              "    .colab-df-convert:hover {\n",
              "      background-color: #E2EBFA;\n",
              "      box-shadow: 0px 1px 2px rgba(60, 64, 67, 0.3), 0px 1px 3px 1px rgba(60, 64, 67, 0.15);\n",
              "      fill: #174EA6;\n",
              "    }\n",
              "\n",
              "    [theme=dark] .colab-df-convert {\n",
              "      background-color: #3B4455;\n",
              "      fill: #D2E3FC;\n",
              "    }\n",
              "\n",
              "    [theme=dark] .colab-df-convert:hover {\n",
              "      background-color: #434B5C;\n",
              "      box-shadow: 0px 1px 3px 1px rgba(0, 0, 0, 0.15);\n",
              "      filter: drop-shadow(0px 1px 2px rgba(0, 0, 0, 0.3));\n",
              "      fill: #FFFFFF;\n",
              "    }\n",
              "  </style>\n",
              "\n",
              "      <script>\n",
              "        const buttonEl =\n",
              "          document.querySelector('#df-36ab3225-52f6-4b24-973f-eef391562b88 button.colab-df-convert');\n",
              "        buttonEl.style.display =\n",
              "          google.colab.kernel.accessAllowed ? 'block' : 'none';\n",
              "\n",
              "        async function convertToInteractive(key) {\n",
              "          const element = document.querySelector('#df-36ab3225-52f6-4b24-973f-eef391562b88');\n",
              "          const dataTable =\n",
              "            await google.colab.kernel.invokeFunction('convertToInteractive',\n",
              "                                                     [key], {});\n",
              "          if (!dataTable) return;\n",
              "\n",
              "          const docLinkHtml = 'Like what you see? Visit the ' +\n",
              "            '<a target=\"_blank\" href=https://colab.research.google.com/notebooks/data_table.ipynb>data table notebook</a>'\n",
              "            + ' to learn more about interactive tables.';\n",
              "          element.innerHTML = '';\n",
              "          dataTable['output_type'] = 'display_data';\n",
              "          await google.colab.output.renderOutput(dataTable, element);\n",
              "          const docLink = document.createElement('div');\n",
              "          docLink.innerHTML = docLinkHtml;\n",
              "          element.appendChild(docLink);\n",
              "        }\n",
              "      </script>\n",
              "    </div>\n",
              "  </div>\n",
              "  "
            ]
          },
          "metadata": {},
          "execution_count": 48
        }
      ]
    },
    {
      "cell_type": "code",
      "source": [
        "DF_raw.dtypes #типы заначений в столбцах"
      ],
      "metadata": {
        "colab": {
          "base_uri": "https://localhost:8080/"
        },
        "id": "nTKof-qgwoR5",
        "outputId": "9bc407e3-7e58-4d3e-bc27-f568f90a52fd"
      },
      "execution_count": null,
      "outputs": [
        {
          "output_type": "execute_result",
          "data": {
            "text/plain": [
              "crim            float64\n",
              "zn              float64\n",
              "indus           float64\n",
              "chas              int64\n",
              "nox             float64\n",
              "rm              float64\n",
              "age             float64\n",
              "dis             float64\n",
              "rad               int64\n",
              "tax               int64\n",
              "ptratio         float64\n",
              "black           float64\n",
              "lstat           float64\n",
              "medv            float64\n",
              "tax_over_400      int64\n",
              "dtype: object"
            ]
          },
          "metadata": {},
          "execution_count": 49
        }
      ]
    },
    {
      "cell_type": "code",
      "source": [
        "# Проверим нашу модель на качество\n",
        "print(DF_raw.isnull().sum()+DF_raw.isna().sum())\n",
        "DF_raw.info()"
      ],
      "metadata": {
        "colab": {
          "base_uri": "https://localhost:8080/"
        },
        "id": "PyW-NB7V6bgg",
        "outputId": "a9c27664-8c09-4142-c9a9-3ff67a57f4e7"
      },
      "execution_count": null,
      "outputs": [
        {
          "output_type": "stream",
          "name": "stdout",
          "text": [
            "crim            0\n",
            "zn              0\n",
            "indus           0\n",
            "chas            0\n",
            "nox             0\n",
            "rm              0\n",
            "age             0\n",
            "dis             0\n",
            "rad             0\n",
            "tax             0\n",
            "ptratio         0\n",
            "black           0\n",
            "lstat           0\n",
            "medv            0\n",
            "tax_over_400    0\n",
            "dtype: int64\n",
            "<class 'pandas.core.frame.DataFrame'>\n",
            "RangeIndex: 506 entries, 0 to 505\n",
            "Data columns (total 15 columns):\n",
            " #   Column        Non-Null Count  Dtype  \n",
            "---  ------        --------------  -----  \n",
            " 0   crim          506 non-null    float64\n",
            " 1   zn            506 non-null    float64\n",
            " 2   indus         506 non-null    float64\n",
            " 3   chas          506 non-null    int64  \n",
            " 4   nox           506 non-null    float64\n",
            " 5   rm            506 non-null    float64\n",
            " 6   age           506 non-null    float64\n",
            " 7   dis           506 non-null    float64\n",
            " 8   rad           506 non-null    int64  \n",
            " 9   tax           506 non-null    int64  \n",
            " 10  ptratio       506 non-null    float64\n",
            " 11  black         506 non-null    float64\n",
            " 12  lstat         506 non-null    float64\n",
            " 13  medv          506 non-null    float64\n",
            " 14  tax_over_400  506 non-null    int64  \n",
            "dtypes: float64(11), int64(4)\n",
            "memory usage: 59.4 KB\n"
          ]
        }
      ]
    },
    {
      "cell_type": "markdown",
      "source": [
        "Отсутствуют пустые(или нулевые по значению) ячейки и количество наблюдений по столбцам одинаковое. Данные в таблице пригодны для анализа."
      ],
      "metadata": {
        "id": "Wfa1KMsh6h92"
      }
    },
    {
      "cell_type": "markdown",
      "source": [
        "### Задание 1. Делим наш фрейм на обучение и тесты. \n",
        "Прежде чем переходить к анализу данных, разделим фрейм на две части: одна (80%) станет основой для обучения моделей, на вторую (20%) мы сделаем прогноз по лучшей модели. Также согласно варианту 3, оставляет только нужные столбцы"
      ],
      "metadata": {
        "id": "LPtvHf0V8CNM"
      }
    },
    {
      "cell_type": "code",
      "source": [
        "DF_raw = DF_raw[['rm', 'dis', 'medv', 'tax_over_400']]\n",
        "DF_raw.head()"
      ],
      "metadata": {
        "colab": {
          "base_uri": "https://localhost:8080/"
        },
        "id": "TBT0KL7a6nB-",
        "outputId": "f6a7bdac-5908-4d33-896a-54078f2dc998"
      },
      "execution_count": null,
      "outputs": [
        {
          "output_type": "execute_result",
          "data": {
            "text/plain": [
              "      rm     dis  medv  tax_over_400\n",
              "0  6.575  4.0900  24.0             0\n",
              "1  6.421  4.9671  21.6             0\n",
              "2  7.185  4.9671  34.7             0\n",
              "3  6.998  6.0622  33.4             0\n",
              "4  7.147  6.0622  36.2             0"
            ],
            "text/html": [
              "\n",
              "  <div id=\"df-b2d6412f-e4ff-4b8e-b127-e89a19e145e0\">\n",
              "    <div class=\"colab-df-container\">\n",
              "      <div>\n",
              "<style scoped>\n",
              "    .dataframe tbody tr th:only-of-type {\n",
              "        vertical-align: middle;\n",
              "    }\n",
              "\n",
              "    .dataframe tbody tr th {\n",
              "        vertical-align: top;\n",
              "    }\n",
              "\n",
              "    .dataframe thead th {\n",
              "        text-align: right;\n",
              "    }\n",
              "</style>\n",
              "<table border=\"1\" class=\"dataframe\">\n",
              "  <thead>\n",
              "    <tr style=\"text-align: right;\">\n",
              "      <th></th>\n",
              "      <th>rm</th>\n",
              "      <th>dis</th>\n",
              "      <th>medv</th>\n",
              "      <th>tax_over_400</th>\n",
              "    </tr>\n",
              "  </thead>\n",
              "  <tbody>\n",
              "    <tr>\n",
              "      <th>0</th>\n",
              "      <td>6.575</td>\n",
              "      <td>4.0900</td>\n",
              "      <td>24.0</td>\n",
              "      <td>0</td>\n",
              "    </tr>\n",
              "    <tr>\n",
              "      <th>1</th>\n",
              "      <td>6.421</td>\n",
              "      <td>4.9671</td>\n",
              "      <td>21.6</td>\n",
              "      <td>0</td>\n",
              "    </tr>\n",
              "    <tr>\n",
              "      <th>2</th>\n",
              "      <td>7.185</td>\n",
              "      <td>4.9671</td>\n",
              "      <td>34.7</td>\n",
              "      <td>0</td>\n",
              "    </tr>\n",
              "    <tr>\n",
              "      <th>3</th>\n",
              "      <td>6.998</td>\n",
              "      <td>6.0622</td>\n",
              "      <td>33.4</td>\n",
              "      <td>0</td>\n",
              "    </tr>\n",
              "    <tr>\n",
              "      <th>4</th>\n",
              "      <td>7.147</td>\n",
              "      <td>6.0622</td>\n",
              "      <td>36.2</td>\n",
              "      <td>0</td>\n",
              "    </tr>\n",
              "  </tbody>\n",
              "</table>\n",
              "</div>\n",
              "      <button class=\"colab-df-convert\" onclick=\"convertToInteractive('df-b2d6412f-e4ff-4b8e-b127-e89a19e145e0')\"\n",
              "              title=\"Convert this dataframe to an interactive table.\"\n",
              "              style=\"display:none;\">\n",
              "        \n",
              "  <svg xmlns=\"http://www.w3.org/2000/svg\" height=\"24px\"viewBox=\"0 0 24 24\"\n",
              "       width=\"24px\">\n",
              "    <path d=\"M0 0h24v24H0V0z\" fill=\"none\"/>\n",
              "    <path d=\"M18.56 5.44l.94 2.06.94-2.06 2.06-.94-2.06-.94-.94-2.06-.94 2.06-2.06.94zm-11 1L8.5 8.5l.94-2.06 2.06-.94-2.06-.94L8.5 2.5l-.94 2.06-2.06.94zm10 10l.94 2.06.94-2.06 2.06-.94-2.06-.94-.94-2.06-.94 2.06-2.06.94z\"/><path d=\"M17.41 7.96l-1.37-1.37c-.4-.4-.92-.59-1.43-.59-.52 0-1.04.2-1.43.59L10.3 9.45l-7.72 7.72c-.78.78-.78 2.05 0 2.83L4 21.41c.39.39.9.59 1.41.59.51 0 1.02-.2 1.41-.59l7.78-7.78 2.81-2.81c.8-.78.8-2.07 0-2.86zM5.41 20L4 18.59l7.72-7.72 1.47 1.35L5.41 20z\"/>\n",
              "  </svg>\n",
              "      </button>\n",
              "      \n",
              "  <style>\n",
              "    .colab-df-container {\n",
              "      display:flex;\n",
              "      flex-wrap:wrap;\n",
              "      gap: 12px;\n",
              "    }\n",
              "\n",
              "    .colab-df-convert {\n",
              "      background-color: #E8F0FE;\n",
              "      border: none;\n",
              "      border-radius: 50%;\n",
              "      cursor: pointer;\n",
              "      display: none;\n",
              "      fill: #1967D2;\n",
              "      height: 32px;\n",
              "      padding: 0 0 0 0;\n",
              "      width: 32px;\n",
              "    }\n",
              "\n",
              "    .colab-df-convert:hover {\n",
              "      background-color: #E2EBFA;\n",
              "      box-shadow: 0px 1px 2px rgba(60, 64, 67, 0.3), 0px 1px 3px 1px rgba(60, 64, 67, 0.15);\n",
              "      fill: #174EA6;\n",
              "    }\n",
              "\n",
              "    [theme=dark] .colab-df-convert {\n",
              "      background-color: #3B4455;\n",
              "      fill: #D2E3FC;\n",
              "    }\n",
              "\n",
              "    [theme=dark] .colab-df-convert:hover {\n",
              "      background-color: #434B5C;\n",
              "      box-shadow: 0px 1px 3px 1px rgba(0, 0, 0, 0.15);\n",
              "      filter: drop-shadow(0px 1px 2px rgba(0, 0, 0, 0.3));\n",
              "      fill: #FFFFFF;\n",
              "    }\n",
              "  </style>\n",
              "\n",
              "      <script>\n",
              "        const buttonEl =\n",
              "          document.querySelector('#df-b2d6412f-e4ff-4b8e-b127-e89a19e145e0 button.colab-df-convert');\n",
              "        buttonEl.style.display =\n",
              "          google.colab.kernel.accessAllowed ? 'block' : 'none';\n",
              "\n",
              "        async function convertToInteractive(key) {\n",
              "          const element = document.querySelector('#df-b2d6412f-e4ff-4b8e-b127-e89a19e145e0');\n",
              "          const dataTable =\n",
              "            await google.colab.kernel.invokeFunction('convertToInteractive',\n",
              "                                                     [key], {});\n",
              "          if (!dataTable) return;\n",
              "\n",
              "          const docLinkHtml = 'Like what you see? Visit the ' +\n",
              "            '<a target=\"_blank\" href=https://colab.research.google.com/notebooks/data_table.ipynb>data table notebook</a>'\n",
              "            + ' to learn more about interactive tables.';\n",
              "          element.innerHTML = '';\n",
              "          dataTable['output_type'] = 'display_data';\n",
              "          await google.colab.output.renderOutput(dataTable, element);\n",
              "          const docLink = document.createElement('div');\n",
              "          docLink.innerHTML = docLinkHtml;\n",
              "          element.appendChild(docLink);\n",
              "        }\n",
              "      </script>\n",
              "    </div>\n",
              "  </div>\n",
              "  "
            ]
          },
          "metadata": {},
          "execution_count": 51
        }
      ]
    },
    {
      "cell_type": "code",
      "source": [
        "# данные для построения моделей\n",
        "DF = DF_raw.sample(frac=0.8, random_state=my_seed)\n",
        "\n",
        "# данные для прогнозов\n",
        "DF_predict = DF_raw.drop(DF.index)"
      ],
      "metadata": {
        "id": "jHEnGPzA6MaQ"
      },
      "execution_count": null,
      "outputs": []
    },
    {
      "cell_type": "code",
      "source": [
        "DF.head(10)"
      ],
      "metadata": {
        "colab": {
          "base_uri": "https://localhost:8080/"
        },
        "id": "J5vyHmGNZeWe",
        "outputId": "ba846ab7-4b14-4243-ac0f-5d6a9f2dc3a6"
      },
      "execution_count": null,
      "outputs": [
        {
          "output_type": "execute_result",
          "data": {
            "text/plain": [
              "        rm     dis  medv  tax_over_400\n",
              "105  5.851  2.1069  19.5             0\n",
              "26   5.813  4.6820  16.6             0\n",
              "180  7.765  2.7410  39.8             0\n",
              "46   5.786  5.1004  20.0             0\n",
              "76   6.279  4.0522  20.0             0\n",
              "260  7.203  2.1121  33.8             0\n",
              "8    5.631  6.0821  16.5             0\n",
              "481  6.750  3.3317  23.7             1\n",
              "56   6.383  9.1876  24.7             0\n",
              "30   5.713  4.2330  12.7             0"
            ],
            "text/html": [
              "\n",
              "  <div id=\"df-0d3c1051-b11e-4484-ae74-127c193430db\">\n",
              "    <div class=\"colab-df-container\">\n",
              "      <div>\n",
              "<style scoped>\n",
              "    .dataframe tbody tr th:only-of-type {\n",
              "        vertical-align: middle;\n",
              "    }\n",
              "\n",
              "    .dataframe tbody tr th {\n",
              "        vertical-align: top;\n",
              "    }\n",
              "\n",
              "    .dataframe thead th {\n",
              "        text-align: right;\n",
              "    }\n",
              "</style>\n",
              "<table border=\"1\" class=\"dataframe\">\n",
              "  <thead>\n",
              "    <tr style=\"text-align: right;\">\n",
              "      <th></th>\n",
              "      <th>rm</th>\n",
              "      <th>dis</th>\n",
              "      <th>medv</th>\n",
              "      <th>tax_over_400</th>\n",
              "    </tr>\n",
              "  </thead>\n",
              "  <tbody>\n",
              "    <tr>\n",
              "      <th>105</th>\n",
              "      <td>5.851</td>\n",
              "      <td>2.1069</td>\n",
              "      <td>19.5</td>\n",
              "      <td>0</td>\n",
              "    </tr>\n",
              "    <tr>\n",
              "      <th>26</th>\n",
              "      <td>5.813</td>\n",
              "      <td>4.6820</td>\n",
              "      <td>16.6</td>\n",
              "      <td>0</td>\n",
              "    </tr>\n",
              "    <tr>\n",
              "      <th>180</th>\n",
              "      <td>7.765</td>\n",
              "      <td>2.7410</td>\n",
              "      <td>39.8</td>\n",
              "      <td>0</td>\n",
              "    </tr>\n",
              "    <tr>\n",
              "      <th>46</th>\n",
              "      <td>5.786</td>\n",
              "      <td>5.1004</td>\n",
              "      <td>20.0</td>\n",
              "      <td>0</td>\n",
              "    </tr>\n",
              "    <tr>\n",
              "      <th>76</th>\n",
              "      <td>6.279</td>\n",
              "      <td>4.0522</td>\n",
              "      <td>20.0</td>\n",
              "      <td>0</td>\n",
              "    </tr>\n",
              "    <tr>\n",
              "      <th>260</th>\n",
              "      <td>7.203</td>\n",
              "      <td>2.1121</td>\n",
              "      <td>33.8</td>\n",
              "      <td>0</td>\n",
              "    </tr>\n",
              "    <tr>\n",
              "      <th>8</th>\n",
              "      <td>5.631</td>\n",
              "      <td>6.0821</td>\n",
              "      <td>16.5</td>\n",
              "      <td>0</td>\n",
              "    </tr>\n",
              "    <tr>\n",
              "      <th>481</th>\n",
              "      <td>6.750</td>\n",
              "      <td>3.3317</td>\n",
              "      <td>23.7</td>\n",
              "      <td>1</td>\n",
              "    </tr>\n",
              "    <tr>\n",
              "      <th>56</th>\n",
              "      <td>6.383</td>\n",
              "      <td>9.1876</td>\n",
              "      <td>24.7</td>\n",
              "      <td>0</td>\n",
              "    </tr>\n",
              "    <tr>\n",
              "      <th>30</th>\n",
              "      <td>5.713</td>\n",
              "      <td>4.2330</td>\n",
              "      <td>12.7</td>\n",
              "      <td>0</td>\n",
              "    </tr>\n",
              "  </tbody>\n",
              "</table>\n",
              "</div>\n",
              "      <button class=\"colab-df-convert\" onclick=\"convertToInteractive('df-0d3c1051-b11e-4484-ae74-127c193430db')\"\n",
              "              title=\"Convert this dataframe to an interactive table.\"\n",
              "              style=\"display:none;\">\n",
              "        \n",
              "  <svg xmlns=\"http://www.w3.org/2000/svg\" height=\"24px\"viewBox=\"0 0 24 24\"\n",
              "       width=\"24px\">\n",
              "    <path d=\"M0 0h24v24H0V0z\" fill=\"none\"/>\n",
              "    <path d=\"M18.56 5.44l.94 2.06.94-2.06 2.06-.94-2.06-.94-.94-2.06-.94 2.06-2.06.94zm-11 1L8.5 8.5l.94-2.06 2.06-.94-2.06-.94L8.5 2.5l-.94 2.06-2.06.94zm10 10l.94 2.06.94-2.06 2.06-.94-2.06-.94-.94-2.06-.94 2.06-2.06.94z\"/><path d=\"M17.41 7.96l-1.37-1.37c-.4-.4-.92-.59-1.43-.59-.52 0-1.04.2-1.43.59L10.3 9.45l-7.72 7.72c-.78.78-.78 2.05 0 2.83L4 21.41c.39.39.9.59 1.41.59.51 0 1.02-.2 1.41-.59l7.78-7.78 2.81-2.81c.8-.78.8-2.07 0-2.86zM5.41 20L4 18.59l7.72-7.72 1.47 1.35L5.41 20z\"/>\n",
              "  </svg>\n",
              "      </button>\n",
              "      \n",
              "  <style>\n",
              "    .colab-df-container {\n",
              "      display:flex;\n",
              "      flex-wrap:wrap;\n",
              "      gap: 12px;\n",
              "    }\n",
              "\n",
              "    .colab-df-convert {\n",
              "      background-color: #E8F0FE;\n",
              "      border: none;\n",
              "      border-radius: 50%;\n",
              "      cursor: pointer;\n",
              "      display: none;\n",
              "      fill: #1967D2;\n",
              "      height: 32px;\n",
              "      padding: 0 0 0 0;\n",
              "      width: 32px;\n",
              "    }\n",
              "\n",
              "    .colab-df-convert:hover {\n",
              "      background-color: #E2EBFA;\n",
              "      box-shadow: 0px 1px 2px rgba(60, 64, 67, 0.3), 0px 1px 3px 1px rgba(60, 64, 67, 0.15);\n",
              "      fill: #174EA6;\n",
              "    }\n",
              "\n",
              "    [theme=dark] .colab-df-convert {\n",
              "      background-color: #3B4455;\n",
              "      fill: #D2E3FC;\n",
              "    }\n",
              "\n",
              "    [theme=dark] .colab-df-convert:hover {\n",
              "      background-color: #434B5C;\n",
              "      box-shadow: 0px 1px 3px 1px rgba(0, 0, 0, 0.15);\n",
              "      filter: drop-shadow(0px 1px 2px rgba(0, 0, 0, 0.3));\n",
              "      fill: #FFFFFF;\n",
              "    }\n",
              "  </style>\n",
              "\n",
              "      <script>\n",
              "        const buttonEl =\n",
              "          document.querySelector('#df-0d3c1051-b11e-4484-ae74-127c193430db button.colab-df-convert');\n",
              "        buttonEl.style.display =\n",
              "          google.colab.kernel.accessAllowed ? 'block' : 'none';\n",
              "\n",
              "        async function convertToInteractive(key) {\n",
              "          const element = document.querySelector('#df-0d3c1051-b11e-4484-ae74-127c193430db');\n",
              "          const dataTable =\n",
              "            await google.colab.kernel.invokeFunction('convertToInteractive',\n",
              "                                                     [key], {});\n",
              "          if (!dataTable) return;\n",
              "\n",
              "          const docLinkHtml = 'Like what you see? Visit the ' +\n",
              "            '<a target=\"_blank\" href=https://colab.research.google.com/notebooks/data_table.ipynb>data table notebook</a>'\n",
              "            + ' to learn more about interactive tables.';\n",
              "          element.innerHTML = '';\n",
              "          dataTable['output_type'] = 'display_data';\n",
              "          await google.colab.output.renderOutput(dataTable, element);\n",
              "          const docLink = document.createElement('div');\n",
              "          docLink.innerHTML = docLinkHtml;\n",
              "          element.appendChild(docLink);\n",
              "        }\n",
              "      </script>\n",
              "    </div>\n",
              "  </div>\n",
              "  "
            ]
          },
          "metadata": {},
          "execution_count": 53
        }
      ]
    },
    {
      "cell_type": "code",
      "source": [
        "DF_predict.head(10)"
      ],
      "metadata": {
        "colab": {
          "base_uri": "https://localhost:8080/"
        },
        "id": "Qho6L2fLZnRa",
        "outputId": "4c5c2ab2-4b0b-4325-f778-9ca1bc2542b6"
      },
      "execution_count": null,
      "outputs": [
        {
          "output_type": "execute_result",
          "data": {
            "text/plain": [
              "       rm     dis  medv  tax_over_400\n",
              "1   6.421  4.9671  21.6             0\n",
              "3   6.998  6.0622  33.4             0\n",
              "4   7.147  6.0622  36.2             0\n",
              "5   6.430  6.0622  28.7             0\n",
              "6   6.012  5.5605  22.9             0\n",
              "31  6.072  4.1750  14.5             0\n",
              "43  6.211  5.7209  24.7             0\n",
              "51  6.115  6.8147  20.5             0\n",
              "55  7.249  8.6966  35.4             0\n",
              "61  5.966  6.8185  16.0             0"
            ],
            "text/html": [
              "\n",
              "  <div id=\"df-55e1bfec-1598-4b30-82d9-95cb0e2065d3\">\n",
              "    <div class=\"colab-df-container\">\n",
              "      <div>\n",
              "<style scoped>\n",
              "    .dataframe tbody tr th:only-of-type {\n",
              "        vertical-align: middle;\n",
              "    }\n",
              "\n",
              "    .dataframe tbody tr th {\n",
              "        vertical-align: top;\n",
              "    }\n",
              "\n",
              "    .dataframe thead th {\n",
              "        text-align: right;\n",
              "    }\n",
              "</style>\n",
              "<table border=\"1\" class=\"dataframe\">\n",
              "  <thead>\n",
              "    <tr style=\"text-align: right;\">\n",
              "      <th></th>\n",
              "      <th>rm</th>\n",
              "      <th>dis</th>\n",
              "      <th>medv</th>\n",
              "      <th>tax_over_400</th>\n",
              "    </tr>\n",
              "  </thead>\n",
              "  <tbody>\n",
              "    <tr>\n",
              "      <th>1</th>\n",
              "      <td>6.421</td>\n",
              "      <td>4.9671</td>\n",
              "      <td>21.6</td>\n",
              "      <td>0</td>\n",
              "    </tr>\n",
              "    <tr>\n",
              "      <th>3</th>\n",
              "      <td>6.998</td>\n",
              "      <td>6.0622</td>\n",
              "      <td>33.4</td>\n",
              "      <td>0</td>\n",
              "    </tr>\n",
              "    <tr>\n",
              "      <th>4</th>\n",
              "      <td>7.147</td>\n",
              "      <td>6.0622</td>\n",
              "      <td>36.2</td>\n",
              "      <td>0</td>\n",
              "    </tr>\n",
              "    <tr>\n",
              "      <th>5</th>\n",
              "      <td>6.430</td>\n",
              "      <td>6.0622</td>\n",
              "      <td>28.7</td>\n",
              "      <td>0</td>\n",
              "    </tr>\n",
              "    <tr>\n",
              "      <th>6</th>\n",
              "      <td>6.012</td>\n",
              "      <td>5.5605</td>\n",
              "      <td>22.9</td>\n",
              "      <td>0</td>\n",
              "    </tr>\n",
              "    <tr>\n",
              "      <th>31</th>\n",
              "      <td>6.072</td>\n",
              "      <td>4.1750</td>\n",
              "      <td>14.5</td>\n",
              "      <td>0</td>\n",
              "    </tr>\n",
              "    <tr>\n",
              "      <th>43</th>\n",
              "      <td>6.211</td>\n",
              "      <td>5.7209</td>\n",
              "      <td>24.7</td>\n",
              "      <td>0</td>\n",
              "    </tr>\n",
              "    <tr>\n",
              "      <th>51</th>\n",
              "      <td>6.115</td>\n",
              "      <td>6.8147</td>\n",
              "      <td>20.5</td>\n",
              "      <td>0</td>\n",
              "    </tr>\n",
              "    <tr>\n",
              "      <th>55</th>\n",
              "      <td>7.249</td>\n",
              "      <td>8.6966</td>\n",
              "      <td>35.4</td>\n",
              "      <td>0</td>\n",
              "    </tr>\n",
              "    <tr>\n",
              "      <th>61</th>\n",
              "      <td>5.966</td>\n",
              "      <td>6.8185</td>\n",
              "      <td>16.0</td>\n",
              "      <td>0</td>\n",
              "    </tr>\n",
              "  </tbody>\n",
              "</table>\n",
              "</div>\n",
              "      <button class=\"colab-df-convert\" onclick=\"convertToInteractive('df-55e1bfec-1598-4b30-82d9-95cb0e2065d3')\"\n",
              "              title=\"Convert this dataframe to an interactive table.\"\n",
              "              style=\"display:none;\">\n",
              "        \n",
              "  <svg xmlns=\"http://www.w3.org/2000/svg\" height=\"24px\"viewBox=\"0 0 24 24\"\n",
              "       width=\"24px\">\n",
              "    <path d=\"M0 0h24v24H0V0z\" fill=\"none\"/>\n",
              "    <path d=\"M18.56 5.44l.94 2.06.94-2.06 2.06-.94-2.06-.94-.94-2.06-.94 2.06-2.06.94zm-11 1L8.5 8.5l.94-2.06 2.06-.94-2.06-.94L8.5 2.5l-.94 2.06-2.06.94zm10 10l.94 2.06.94-2.06 2.06-.94-2.06-.94-.94-2.06-.94 2.06-2.06.94z\"/><path d=\"M17.41 7.96l-1.37-1.37c-.4-.4-.92-.59-1.43-.59-.52 0-1.04.2-1.43.59L10.3 9.45l-7.72 7.72c-.78.78-.78 2.05 0 2.83L4 21.41c.39.39.9.59 1.41.59.51 0 1.02-.2 1.41-.59l7.78-7.78 2.81-2.81c.8-.78.8-2.07 0-2.86zM5.41 20L4 18.59l7.72-7.72 1.47 1.35L5.41 20z\"/>\n",
              "  </svg>\n",
              "      </button>\n",
              "      \n",
              "  <style>\n",
              "    .colab-df-container {\n",
              "      display:flex;\n",
              "      flex-wrap:wrap;\n",
              "      gap: 12px;\n",
              "    }\n",
              "\n",
              "    .colab-df-convert {\n",
              "      background-color: #E8F0FE;\n",
              "      border: none;\n",
              "      border-radius: 50%;\n",
              "      cursor: pointer;\n",
              "      display: none;\n",
              "      fill: #1967D2;\n",
              "      height: 32px;\n",
              "      padding: 0 0 0 0;\n",
              "      width: 32px;\n",
              "    }\n",
              "\n",
              "    .colab-df-convert:hover {\n",
              "      background-color: #E2EBFA;\n",
              "      box-shadow: 0px 1px 2px rgba(60, 64, 67, 0.3), 0px 1px 3px 1px rgba(60, 64, 67, 0.15);\n",
              "      fill: #174EA6;\n",
              "    }\n",
              "\n",
              "    [theme=dark] .colab-df-convert {\n",
              "      background-color: #3B4455;\n",
              "      fill: #D2E3FC;\n",
              "    }\n",
              "\n",
              "    [theme=dark] .colab-df-convert:hover {\n",
              "      background-color: #434B5C;\n",
              "      box-shadow: 0px 1px 3px 1px rgba(0, 0, 0, 0.15);\n",
              "      filter: drop-shadow(0px 1px 2px rgba(0, 0, 0, 0.3));\n",
              "      fill: #FFFFFF;\n",
              "    }\n",
              "  </style>\n",
              "\n",
              "      <script>\n",
              "        const buttonEl =\n",
              "          document.querySelector('#df-55e1bfec-1598-4b30-82d9-95cb0e2065d3 button.colab-df-convert');\n",
              "        buttonEl.style.display =\n",
              "          google.colab.kernel.accessAllowed ? 'block' : 'none';\n",
              "\n",
              "        async function convertToInteractive(key) {\n",
              "          const element = document.querySelector('#df-55e1bfec-1598-4b30-82d9-95cb0e2065d3');\n",
              "          const dataTable =\n",
              "            await google.colab.kernel.invokeFunction('convertToInteractive',\n",
              "                                                     [key], {});\n",
              "          if (!dataTable) return;\n",
              "\n",
              "          const docLinkHtml = 'Like what you see? Visit the ' +\n",
              "            '<a target=\"_blank\" href=https://colab.research.google.com/notebooks/data_table.ipynb>data table notebook</a>'\n",
              "            + ' to learn more about interactive tables.';\n",
              "          element.innerHTML = '';\n",
              "          dataTable['output_type'] = 'display_data';\n",
              "          await google.colab.output.renderOutput(dataTable, element);\n",
              "          const docLink = document.createElement('div');\n",
              "          docLink.innerHTML = docLinkHtml;\n",
              "          element.appendChild(docLink);\n",
              "        }\n",
              "      </script>\n",
              "    </div>\n",
              "  </div>\n",
              "  "
            ]
          },
          "metadata": {},
          "execution_count": 54
        }
      ]
    },
    {
      "cell_type": "markdown",
      "source": [
        "Здесь:\n",
        "* **rm**- среднее количество комнат в доме;;\n",
        "* **dis**– средневзвешенное расстояние до пяти бостонских центров занятости;\n",
        "* **medv**– медианная стоимость домов, занимаемых владельцами, в тысячах долларов;\n",
        "* **tax_over_400**– фиктивная переменная: 1 если полная ставка налога на имущество \\ на 10000 долларов превышает 400."
      ],
      "metadata": {
        "id": "DaxhkCOfwYox"
      }
    },
    {
      "cell_type": "code",
      "source": [
        "# удаляем фрейм-исходник\n",
        "del DF_raw"
      ],
      "metadata": {
        "id": "oBPXUzhZ8xFj"
      },
      "execution_count": null,
      "outputs": []
    },
    {
      "cell_type": "markdown",
      "source": [
        "## Задание 2.Предварительный анализ данных   \n",
        "\n",
        "### Считаем описательные статистики   \n",
        "\n",
        "Рассчитаем описательные статистики для непрерывных переменных. Из таблицы ниже можно видеть, что все переменные сильно отличаются по масштабу."
      ],
      "metadata": {
        "id": "Rjy8Kty64Be8"
      }
    },
    {
      "cell_type": "code",
      "source": [
        "# описательные статистики для непрерывных переменных\n",
        "DF[['medv', 'rm', 'dis']].describe()"
      ],
      "metadata": {
        "colab": {
          "base_uri": "https://localhost:8080/"
        },
        "id": "sxf0csqU3Dfi",
        "outputId": "4063d1e8-dc0c-43b6-f37c-378c4f8dd21a"
      },
      "execution_count": null,
      "outputs": [
        {
          "output_type": "execute_result",
          "data": {
            "text/plain": [
              "             medv          rm         dis\n",
              "count  405.000000  405.000000  405.000000\n",
              "mean    22.506173    6.264746    3.752900\n",
              "std      9.192299    0.712511    2.021602\n",
              "min      5.000000    3.561000    1.129600\n",
              "25%     17.200000    5.875000    2.086900\n",
              "50%     21.000000    6.167000    3.215700\n",
              "75%     25.000000    6.606000    5.100400\n",
              "max     50.000000    8.780000   10.710300"
            ],
            "text/html": [
              "\n",
              "  <div id=\"df-8d873a50-3d95-4e61-8d28-f43cebef8253\">\n",
              "    <div class=\"colab-df-container\">\n",
              "      <div>\n",
              "<style scoped>\n",
              "    .dataframe tbody tr th:only-of-type {\n",
              "        vertical-align: middle;\n",
              "    }\n",
              "\n",
              "    .dataframe tbody tr th {\n",
              "        vertical-align: top;\n",
              "    }\n",
              "\n",
              "    .dataframe thead th {\n",
              "        text-align: right;\n",
              "    }\n",
              "</style>\n",
              "<table border=\"1\" class=\"dataframe\">\n",
              "  <thead>\n",
              "    <tr style=\"text-align: right;\">\n",
              "      <th></th>\n",
              "      <th>medv</th>\n",
              "      <th>rm</th>\n",
              "      <th>dis</th>\n",
              "    </tr>\n",
              "  </thead>\n",
              "  <tbody>\n",
              "    <tr>\n",
              "      <th>count</th>\n",
              "      <td>405.000000</td>\n",
              "      <td>405.000000</td>\n",
              "      <td>405.000000</td>\n",
              "    </tr>\n",
              "    <tr>\n",
              "      <th>mean</th>\n",
              "      <td>22.506173</td>\n",
              "      <td>6.264746</td>\n",
              "      <td>3.752900</td>\n",
              "    </tr>\n",
              "    <tr>\n",
              "      <th>std</th>\n",
              "      <td>9.192299</td>\n",
              "      <td>0.712511</td>\n",
              "      <td>2.021602</td>\n",
              "    </tr>\n",
              "    <tr>\n",
              "      <th>min</th>\n",
              "      <td>5.000000</td>\n",
              "      <td>3.561000</td>\n",
              "      <td>1.129600</td>\n",
              "    </tr>\n",
              "    <tr>\n",
              "      <th>25%</th>\n",
              "      <td>17.200000</td>\n",
              "      <td>5.875000</td>\n",
              "      <td>2.086900</td>\n",
              "    </tr>\n",
              "    <tr>\n",
              "      <th>50%</th>\n",
              "      <td>21.000000</td>\n",
              "      <td>6.167000</td>\n",
              "      <td>3.215700</td>\n",
              "    </tr>\n",
              "    <tr>\n",
              "      <th>75%</th>\n",
              "      <td>25.000000</td>\n",
              "      <td>6.606000</td>\n",
              "      <td>5.100400</td>\n",
              "    </tr>\n",
              "    <tr>\n",
              "      <th>max</th>\n",
              "      <td>50.000000</td>\n",
              "      <td>8.780000</td>\n",
              "      <td>10.710300</td>\n",
              "    </tr>\n",
              "  </tbody>\n",
              "</table>\n",
              "</div>\n",
              "      <button class=\"colab-df-convert\" onclick=\"convertToInteractive('df-8d873a50-3d95-4e61-8d28-f43cebef8253')\"\n",
              "              title=\"Convert this dataframe to an interactive table.\"\n",
              "              style=\"display:none;\">\n",
              "        \n",
              "  <svg xmlns=\"http://www.w3.org/2000/svg\" height=\"24px\"viewBox=\"0 0 24 24\"\n",
              "       width=\"24px\">\n",
              "    <path d=\"M0 0h24v24H0V0z\" fill=\"none\"/>\n",
              "    <path d=\"M18.56 5.44l.94 2.06.94-2.06 2.06-.94-2.06-.94-.94-2.06-.94 2.06-2.06.94zm-11 1L8.5 8.5l.94-2.06 2.06-.94-2.06-.94L8.5 2.5l-.94 2.06-2.06.94zm10 10l.94 2.06.94-2.06 2.06-.94-2.06-.94-.94-2.06-.94 2.06-2.06.94z\"/><path d=\"M17.41 7.96l-1.37-1.37c-.4-.4-.92-.59-1.43-.59-.52 0-1.04.2-1.43.59L10.3 9.45l-7.72 7.72c-.78.78-.78 2.05 0 2.83L4 21.41c.39.39.9.59 1.41.59.51 0 1.02-.2 1.41-.59l7.78-7.78 2.81-2.81c.8-.78.8-2.07 0-2.86zM5.41 20L4 18.59l7.72-7.72 1.47 1.35L5.41 20z\"/>\n",
              "  </svg>\n",
              "      </button>\n",
              "      \n",
              "  <style>\n",
              "    .colab-df-container {\n",
              "      display:flex;\n",
              "      flex-wrap:wrap;\n",
              "      gap: 12px;\n",
              "    }\n",
              "\n",
              "    .colab-df-convert {\n",
              "      background-color: #E8F0FE;\n",
              "      border: none;\n",
              "      border-radius: 50%;\n",
              "      cursor: pointer;\n",
              "      display: none;\n",
              "      fill: #1967D2;\n",
              "      height: 32px;\n",
              "      padding: 0 0 0 0;\n",
              "      width: 32px;\n",
              "    }\n",
              "\n",
              "    .colab-df-convert:hover {\n",
              "      background-color: #E2EBFA;\n",
              "      box-shadow: 0px 1px 2px rgba(60, 64, 67, 0.3), 0px 1px 3px 1px rgba(60, 64, 67, 0.15);\n",
              "      fill: #174EA6;\n",
              "    }\n",
              "\n",
              "    [theme=dark] .colab-df-convert {\n",
              "      background-color: #3B4455;\n",
              "      fill: #D2E3FC;\n",
              "    }\n",
              "\n",
              "    [theme=dark] .colab-df-convert:hover {\n",
              "      background-color: #434B5C;\n",
              "      box-shadow: 0px 1px 3px 1px rgba(0, 0, 0, 0.15);\n",
              "      filter: drop-shadow(0px 1px 2px rgba(0, 0, 0, 0.3));\n",
              "      fill: #FFFFFF;\n",
              "    }\n",
              "  </style>\n",
              "\n",
              "      <script>\n",
              "        const buttonEl =\n",
              "          document.querySelector('#df-8d873a50-3d95-4e61-8d28-f43cebef8253 button.colab-df-convert');\n",
              "        buttonEl.style.display =\n",
              "          google.colab.kernel.accessAllowed ? 'block' : 'none';\n",
              "\n",
              "        async function convertToInteractive(key) {\n",
              "          const element = document.querySelector('#df-8d873a50-3d95-4e61-8d28-f43cebef8253');\n",
              "          const dataTable =\n",
              "            await google.colab.kernel.invokeFunction('convertToInteractive',\n",
              "                                                     [key], {});\n",
              "          if (!dataTable) return;\n",
              "\n",
              "          const docLinkHtml = 'Like what you see? Visit the ' +\n",
              "            '<a target=\"_blank\" href=https://colab.research.google.com/notebooks/data_table.ipynb>data table notebook</a>'\n",
              "            + ' to learn more about interactive tables.';\n",
              "          element.innerHTML = '';\n",
              "          dataTable['output_type'] = 'display_data';\n",
              "          await google.colab.output.renderOutput(dataTable, element);\n",
              "          const docLink = document.createElement('div');\n",
              "          docLink.innerHTML = docLinkHtml;\n",
              "          element.appendChild(docLink);\n",
              "        }\n",
              "      </script>\n",
              "    </div>\n",
              "  </div>\n",
              "  "
            ]
          },
          "metadata": {},
          "execution_count": 56
        }
      ]
    },
    {
      "cell_type": "markdown",
      "source": [
        "### Строим графики  \n",
        "\n",
        "Посмотрим на графики взаимного разброса непрерывных переменных. "
      ],
      "metadata": {
        "id": "j9TsMVnjCIb-"
      }
    },
    {
      "cell_type": "code",
      "source": [
        "# матричный график разброса с линиями регрессии\n",
        "sns.pairplot(DF[['rm', 'dis', 'medv', 'tax_over_400']])\n",
        "plt.show()"
      ],
      "metadata": {
        "colab": {
          "base_uri": "https://localhost:8080/"
        },
        "id": "0PrFFv5JCJhe",
        "outputId": "046d232d-4240-48db-f079-e8b55f713ae9"
      },
      "execution_count": null,
      "outputs": [
        {
          "output_type": "display_data",
          "data": {
            "text/plain": [
              "<Figure size 720x720 with 20 Axes>"
            ],
            "image/png": "[encoded data removed]"
          },
          "metadata": {}
        }
      ]
    },
    {
      "cell_type": "markdown",
      "source": [
        "Судя по этим графикам:\n",
        "\n",
        "- tax_over_400 дискретна, остальные непрерывны;\n",
        "\n",
        "- распределение зависимой medv не является нормальным;\n",
        "\n",
        "- из всех объясняющих нормально распределена только rm;\n",
        "\n",
        "- прослеживается линейная связь у medv и rm, но есть сильно отклоняющиеся точки. \n",
        "Скорее всего, связь будет умеренной."
      ],
      "metadata": {
        "id": "l8hXQj3nCXA2"
      }
    },
    {
      "cell_type": "code",
      "source": [
        "sns.pairplot(DF[['medv', 'rm', 'dis', 'tax_over_400']],\n",
        "            hue='tax_over_400')\n",
        "\n",
        "plt.show()"
      ],
      "metadata": {
        "colab": {
          "base_uri": "https://localhost:8080/"
        },
        "id": "K5JlUIv_gtKX",
        "outputId": "dca4292e-5d12-45a9-c5dd-9abaeed33a07"
      },
      "execution_count": null,
      "outputs": [
        {
          "output_type": "display_data",
          "data": {
            "text/plain": [
              "<Figure size 608.875x540 with 12 Axes>"
            ],
            "image/png": "[encoded data removed]"
          },
          "metadata": {}
        }
      ]
    },
    {
      "cell_type": "markdown",
      "source": [
        "Посмотрим на корреляционные матрицы непрерывных переменных фрейма."
      ],
      "metadata": {
        "id": "4TWAkPk3g5_B"
      }
    },
    {
      "cell_type": "code",
      "source": [
        "# корреляционная матрица по всем наблюдениям\n",
        "corr_mat = DF[['medv', 'rm', 'dis']].corr()\n",
        "corr_mat.style.background_gradient(cmap='coolwarm').set_precision(2)"
      ],
      "metadata": {
        "colab": {
          "base_uri": "https://localhost:8080/"
        },
        "id": "sdonjBpYg8vz",
        "outputId": "cd806165-a8c4-4a9d-a97f-257e73bd6d7b"
      },
      "execution_count": null,
      "outputs": [
        {
          "output_type": "stream",
          "name": "stderr",
          "text": [
            "/usr/local/lib/python3.7/dist-packages/ipykernel_launcher.py:3: FutureWarning: this method is deprecated in favour of `Styler.format(precision=..)`\n",
            "  This is separate from the ipykernel package so we can avoid doing imports until\n"
          ]
        },
        {
          "output_type": "execute_result",
          "data": {
            "text/plain": [
              "<pandas.io.formats.style.Styler at 0x7f00653efe90>"
            ],
            "text/html": [
              "<style type=\"text/css\">\n",
              "#T_f1a34_row0_col0, #T_f1a34_row1_col1, #T_f1a34_row2_col2 {\n",
              "  background-color: #b40426;\n",
              "  color: #f1f1f1;\n",
              "}\n",
              "#T_f1a34_row0_col1 {\n",
              "  background-color: #f3c7b1;\n",
              "  color: #000000;\n",
              "}\n",
              "#T_f1a34_row0_col2 {\n",
              "  background-color: #445acc;\n",
              "  color: #f1f1f1;\n",
              "}\n",
              "#T_f1a34_row1_col0 {\n",
              "  background-color: #f2cab5;\n",
              "  color: #000000;\n",
              "}\n",
              "#T_f1a34_row1_col2, #T_f1a34_row2_col0, #T_f1a34_row2_col1 {\n",
              "  background-color: #3b4cc0;\n",
              "  color: #f1f1f1;\n",
              "}\n",
              "</style>\n",
              "<table id=\"T_f1a34_\" class=\"dataframe\">\n",
              "  <thead>\n",
              "    <tr>\n",
              "      <th class=\"blank level0\" >&nbsp;</th>\n",
              "      <th class=\"col_heading level0 col0\" >medv</th>\n",
              "      <th class=\"col_heading level0 col1\" >rm</th>\n",
              "      <th class=\"col_heading level0 col2\" >dis</th>\n",
              "    </tr>\n",
              "  </thead>\n",
              "  <tbody>\n",
              "    <tr>\n",
              "      <th id=\"T_f1a34_level0_row0\" class=\"row_heading level0 row0\" >medv</th>\n",
              "      <td id=\"T_f1a34_row0_col0\" class=\"data row0 col0\" >1.00</td>\n",
              "      <td id=\"T_f1a34_row0_col1\" class=\"data row0 col1\" >0.68</td>\n",
              "      <td id=\"T_f1a34_row0_col2\" class=\"data row0 col2\" >0.21</td>\n",
              "    </tr>\n",
              "    <tr>\n",
              "      <th id=\"T_f1a34_level0_row1\" class=\"row_heading level0 row1\" >rm</th>\n",
              "      <td id=\"T_f1a34_row1_col0\" class=\"data row1 col0\" >0.68</td>\n",
              "      <td id=\"T_f1a34_row1_col1\" class=\"data row1 col1\" >1.00</td>\n",
              "      <td id=\"T_f1a34_row1_col2\" class=\"data row1 col2\" >0.18</td>\n",
              "    </tr>\n",
              "    <tr>\n",
              "      <th id=\"T_f1a34_level0_row2\" class=\"row_heading level0 row2\" >dis</th>\n",
              "      <td id=\"T_f1a34_row2_col0\" class=\"data row2 col0\" >0.21</td>\n",
              "      <td id=\"T_f1a34_row2_col1\" class=\"data row2 col1\" >0.18</td>\n",
              "      <td id=\"T_f1a34_row2_col2\" class=\"data row2 col2\" >1.00</td>\n",
              "    </tr>\n",
              "  </tbody>\n",
              "</table>\n"
            ]
          },
          "metadata": {},
          "execution_count": 59
        }
      ]
    },
    {
      "cell_type": "markdown",
      "source": [
        "Посчитаем корреляционные матрицы для тех, чья полная ставка налога на имущество \\ на $10000 превышает 400 (фиктивная переменная = 1)"
      ],
      "metadata": {
        "id": "uEjfh-PhhAjR"
      }
    },
    {
      "cell_type": "code",
      "source": [
        "corr_mat = DF.loc[DF['tax_over_400'] == 1][['medv', 'rm', 'dis']].corr()\n",
        "corr_mat.style.background_gradient(cmap='coolwarm').set_precision(2)"
      ],
      "metadata": {
        "colab": {
          "base_uri": "https://localhost:8080/"
        },
        "id": "WfrCoHcIhDTF",
        "outputId": "5d68c7a1-a06f-41e2-ae3b-6be30b571742"
      },
      "execution_count": null,
      "outputs": [
        {
          "output_type": "stream",
          "name": "stderr",
          "text": [
            "/usr/local/lib/python3.7/dist-packages/ipykernel_launcher.py:2: FutureWarning: this method is deprecated in favour of `Styler.format(precision=..)`\n",
            "  \n"
          ]
        },
        {
          "output_type": "execute_result",
          "data": {
            "text/plain": [
              "<pandas.io.formats.style.Styler at 0x7f00652d2190>"
            ],
            "text/html": [
              "<style type=\"text/css\">\n",
              "#T_38d8e_row0_col0, #T_38d8e_row1_col1, #T_38d8e_row2_col2 {\n",
              "  background-color: #b40426;\n",
              "  color: #f1f1f1;\n",
              "}\n",
              "#T_38d8e_row0_col1 {\n",
              "  background-color: #7093f3;\n",
              "  color: #f1f1f1;\n",
              "}\n",
              "#T_38d8e_row0_col2, #T_38d8e_row2_col0, #T_38d8e_row2_col1 {\n",
              "  background-color: #3b4cc0;\n",
              "  color: #f1f1f1;\n",
              "}\n",
              "#T_38d8e_row1_col0 {\n",
              "  background-color: #8db0fe;\n",
              "  color: #000000;\n",
              "}\n",
              "#T_38d8e_row1_col2 {\n",
              "  background-color: #5977e3;\n",
              "  color: #f1f1f1;\n",
              "}\n",
              "</style>\n",
              "<table id=\"T_38d8e_\" class=\"dataframe\">\n",
              "  <thead>\n",
              "    <tr>\n",
              "      <th class=\"blank level0\" >&nbsp;</th>\n",
              "      <th class=\"col_heading level0 col0\" >medv</th>\n",
              "      <th class=\"col_heading level0 col1\" >rm</th>\n",
              "      <th class=\"col_heading level0 col2\" >dis</th>\n",
              "    </tr>\n",
              "  </thead>\n",
              "  <tbody>\n",
              "    <tr>\n",
              "      <th id=\"T_38d8e_level0_row0\" class=\"row_heading level0 row0\" >medv</th>\n",
              "      <td id=\"T_38d8e_row0_col0\" class=\"data row0 col0\" >1.00</td>\n",
              "      <td id=\"T_38d8e_row0_col1\" class=\"data row0 col1\" >0.33</td>\n",
              "      <td id=\"T_38d8e_row0_col2\" class=\"data row0 col2\" >0.10</td>\n",
              "    </tr>\n",
              "    <tr>\n",
              "      <th id=\"T_38d8e_level0_row1\" class=\"row_heading level0 row1\" >rm</th>\n",
              "      <td id=\"T_38d8e_row1_col0\" class=\"data row1 col0\" >0.33</td>\n",
              "      <td id=\"T_38d8e_row1_col1\" class=\"data row1 col1\" >1.00</td>\n",
              "      <td id=\"T_38d8e_row1_col2\" class=\"data row1 col2\" >0.19</td>\n",
              "    </tr>\n",
              "    <tr>\n",
              "      <th id=\"T_38d8e_level0_row2\" class=\"row_heading level0 row2\" >dis</th>\n",
              "      <td id=\"T_38d8e_row2_col0\" class=\"data row2 col0\" >0.10</td>\n",
              "      <td id=\"T_38d8e_row2_col1\" class=\"data row2 col1\" >0.19</td>\n",
              "      <td id=\"T_38d8e_row2_col2\" class=\"data row2 col2\" >1.00</td>\n",
              "    </tr>\n",
              "  </tbody>\n",
              "</table>\n"
            ]
          },
          "metadata": {},
          "execution_count": 60
        }
      ]
    },
    {
      "cell_type": "markdown",
      "source": [
        "Посчитаем корреляционные матрицы для тех, чья полная ставка налога на имущество \\ на $10000 не превышает 400 (фиктивная переменная = 0)"
      ],
      "metadata": {
        "id": "tRFNEINnhIQq"
      }
    },
    {
      "cell_type": "code",
      "source": [
        "corr_mat = DF.loc[DF['tax_over_400'] == 0][['medv', 'rm', 'dis']].corr()\n",
        "corr_mat.style.background_gradient(cmap='coolwarm').set_precision(2)"
      ],
      "metadata": {
        "colab": {
          "base_uri": "https://localhost:8080/"
        },
        "id": "hoWhuqfxhHYH",
        "outputId": "8a836015-7b90-43bb-a9b5-b542d4f433d7"
      },
      "execution_count": null,
      "outputs": [
        {
          "output_type": "stream",
          "name": "stderr",
          "text": [
            "/usr/local/lib/python3.7/dist-packages/ipykernel_launcher.py:2: FutureWarning: this method is deprecated in favour of `Styler.format(precision=..)`\n",
            "  \n"
          ]
        },
        {
          "output_type": "execute_result",
          "data": {
            "text/plain": [
              "<pandas.io.formats.style.Styler at 0x7f00654e7450>"
            ],
            "text/html": [
              "<style type=\"text/css\">\n",
              "#T_4f4fc_row0_col0, #T_4f4fc_row1_col1, #T_4f4fc_row2_col2 {\n",
              "  background-color: #b40426;\n",
              "  color: #f1f1f1;\n",
              "}\n",
              "#T_4f4fc_row0_col1 {\n",
              "  background-color: #d65244;\n",
              "  color: #f1f1f1;\n",
              "}\n",
              "#T_4f4fc_row0_col2, #T_4f4fc_row2_col0, #T_4f4fc_row2_col1 {\n",
              "  background-color: #3b4cc0;\n",
              "  color: #f1f1f1;\n",
              "}\n",
              "#T_4f4fc_row1_col0 {\n",
              "  background-color: #d55042;\n",
              "  color: #f1f1f1;\n",
              "}\n",
              "#T_4f4fc_row1_col2 {\n",
              "  background-color: #4358cb;\n",
              "  color: #f1f1f1;\n",
              "}\n",
              "</style>\n",
              "<table id=\"T_4f4fc_\" class=\"dataframe\">\n",
              "  <thead>\n",
              "    <tr>\n",
              "      <th class=\"blank level0\" >&nbsp;</th>\n",
              "      <th class=\"col_heading level0 col0\" >medv</th>\n",
              "      <th class=\"col_heading level0 col1\" >rm</th>\n",
              "      <th class=\"col_heading level0 col2\" >dis</th>\n",
              "    </tr>\n",
              "  </thead>\n",
              "  <tbody>\n",
              "    <tr>\n",
              "      <th id=\"T_4f4fc_level0_row0\" class=\"row_heading level0 row0\" >medv</th>\n",
              "      <td id=\"T_4f4fc_row0_col0\" class=\"data row0 col0\" >1.00</td>\n",
              "      <td id=\"T_4f4fc_row0_col1\" class=\"data row0 col1\" >0.90</td>\n",
              "      <td id=\"T_4f4fc_row0_col2\" class=\"data row0 col2\" >-0.09</td>\n",
              "    </tr>\n",
              "    <tr>\n",
              "      <th id=\"T_4f4fc_level0_row1\" class=\"row_heading level0 row1\" >rm</th>\n",
              "      <td id=\"T_4f4fc_row1_col0\" class=\"data row1 col0\" >0.90</td>\n",
              "      <td id=\"T_4f4fc_row1_col1\" class=\"data row1 col1\" >1.00</td>\n",
              "      <td id=\"T_4f4fc_row1_col2\" class=\"data row1 col2\" >-0.05</td>\n",
              "    </tr>\n",
              "    <tr>\n",
              "      <th id=\"T_4f4fc_level0_row2\" class=\"row_heading level0 row2\" >dis</th>\n",
              "      <td id=\"T_4f4fc_row2_col0\" class=\"data row2 col0\" >-0.09</td>\n",
              "      <td id=\"T_4f4fc_row2_col1\" class=\"data row2 col1\" >-0.05</td>\n",
              "      <td id=\"T_4f4fc_row2_col2\" class=\"data row2 col2\" >1.00</td>\n",
              "    </tr>\n",
              "  </tbody>\n",
              "</table>\n"
            ]
          },
          "metadata": {},
          "execution_count": 61
        }
      ]
    },
    {
      "cell_type": "markdown",
      "source": [
        "Вывод: стоимость домов сильно зависит от количества комнат в доме, если полная ставка налога на имущество \\ на $10000 не превышает 400. Если привышает, корреляция почти в два раза меньше."
      ],
      "metadata": {
        "id": "In6iTNZvhPF8"
      }
    },
    {
      "cell_type": "markdown",
      "source": [
        "\n",
        "\n",
        "### Логарифмируем зависимую переменную  \n",
        "\n",
        "Важным допущением линейной регрессии является нормальность зависимой переменной. Чтобы добиться нормального распределения, используют логарифмирование либо преобразование Бокса-Кокса. В этой лабораторной остановимся на логарифмировании.   "
      ],
      "metadata": {
        "id": "XMwBpVYghhdG"
      }
    },
    {
      "cell_type": "code",
      "source": [
        "# логарифмируем зависимую переменную\n",
        "DF['log_medv'] = np.log(DF['medv'])\n"
      ],
      "metadata": {
        "id": "i-Ta1B4dhqFc"
      },
      "execution_count": null,
      "outputs": []
    },
    {
      "cell_type": "markdown",
      "source": [
        "Проведём формальные тесты на нормальность."
      ],
      "metadata": {
        "id": "7_96Y9bJiA18"
      }
    },
    {
      "cell_type": "code",
      "source": [
        "# тестируем на нормальность\n",
        "for col in ['medv', 'log_medv']:\n",
        "    stat, p = shapiro(DF[col])\n",
        "    print(col, 'Statistics=%.2f, p=%.4f' % (stat, p))\n",
        "    # интерпретация\n",
        "    alpha = 0.05\n",
        "    if p > alpha:\n",
        "        print('Распределение нормально (H0 не отклоняется)\\n')\n",
        "    else:\n",
        "        print('Распределение не нормально (H0 отклоняется)\\n')"
      ],
      "metadata": {
        "colab": {
          "base_uri": "https://localhost:8080/"
        },
        "id": "WwHGczPRiDXo",
        "outputId": "e724dfec-c07c-4cba-f090-773b74e357f7"
      },
      "execution_count": null,
      "outputs": [
        {
          "output_type": "stream",
          "name": "stdout",
          "text": [
            "medv Statistics=0.91, p=0.0000\n",
            "Распределение не нормально (H0 отклоняется)\n",
            "\n",
            "log_medv Statistics=0.97, p=0.0000\n",
            "Распределение не нормально (H0 отклоняется)\n",
            "\n"
          ]
        }
      ]
    },
    {
      "cell_type": "code",
      "source": [
        "sns.pairplot(DF[['rm', 'dis', 'log_medv']])\n",
        "plt.show()"
      ],
      "metadata": {
        "colab": {
          "base_uri": "https://localhost:8080/"
        },
        "id": "fKTnovuciKJD",
        "outputId": "03396fd0-d879-4beb-a707-9e5e29a744d5"
      },
      "execution_count": null,
      "outputs": [
        {
          "output_type": "display_data",
          "data": {
            "text/plain": [
              "<Figure size 540x540 with 12 Axes>"
            ],
            "image/png": "[encoded data removed]"
          },
          "metadata": {}
        }
      ]
    },
    {
      "cell_type": "markdown",
      "source": [
        "Логарифмирование меняет взаимосвязи между переменными."
      ],
      "metadata": {
        "id": "cyRuWk7uiRPL"
      }
    },
    {
      "cell_type": "code",
      "source": [
        "sns.pairplot(DF[['log_medv', 'rm', 'dis', 'tax_over_400']], hue='tax_over_400')\n",
        "plt.show()"
      ],
      "metadata": {
        "colab": {
          "base_uri": "https://localhost:8080/"
        },
        "id": "iyK2f_pRiSga",
        "outputId": "2b40cfca-063a-4c4a-f6a5-9b9193492fbd"
      },
      "execution_count": null,
      "outputs": [
        {
          "output_type": "display_data",
          "data": {
            "text/plain": [
              "<Figure size 608.875x540 with 12 Axes>"
            ],
            "image/png": "[encoded data removed]"
          },
          "metadata": {}
        }
      ]
    },
    {
      "cell_type": "code",
      "source": [
        "corr_mat = DF[['medv', 'log_medv', 'rm', 'dis']].corr()\n",
        "corr_mat.style.background_gradient(cmap='coolwarm').set_precision(2)"
      ],
      "metadata": {
        "colab": {
          "base_uri": "https://localhost:8080/"
        },
        "id": "RGm8isE5iX1H",
        "outputId": "9f98532b-8d30-4449-82c9-f6cb5c746157"
      },
      "execution_count": null,
      "outputs": [
        {
          "output_type": "stream",
          "name": "stderr",
          "text": [
            "/usr/local/lib/python3.7/dist-packages/ipykernel_launcher.py:2: FutureWarning: this method is deprecated in favour of `Styler.format(precision=..)`\n",
            "  \n"
          ]
        },
        {
          "output_type": "execute_result",
          "data": {
            "text/plain": [
              "<pandas.io.formats.style.Styler at 0x7f0060621350>"
            ],
            "text/html": [
              "<style type=\"text/css\">\n",
              "#T_678b0_row0_col0, #T_678b0_row1_col1, #T_678b0_row2_col2, #T_678b0_row3_col3 {\n",
              "  background-color: #b40426;\n",
              "  color: #f1f1f1;\n",
              "}\n",
              "#T_678b0_row0_col1 {\n",
              "  background-color: #cc403a;\n",
              "  color: #f1f1f1;\n",
              "}\n",
              "#T_678b0_row0_col2 {\n",
              "  background-color: #f3c7b1;\n",
              "  color: #000000;\n",
              "}\n",
              "#T_678b0_row0_col3 {\n",
              "  background-color: #445acc;\n",
              "  color: #f1f1f1;\n",
              "}\n",
              "#T_678b0_row1_col0 {\n",
              "  background-color: #ca3b37;\n",
              "  color: #f1f1f1;\n",
              "}\n",
              "#T_678b0_row1_col2 {\n",
              "  background-color: #e7d7ce;\n",
              "  color: #000000;\n",
              "}\n",
              "#T_678b0_row1_col3 {\n",
              "  background-color: #6a8bef;\n",
              "  color: #f1f1f1;\n",
              "}\n",
              "#T_678b0_row2_col0 {\n",
              "  background-color: #f2cab5;\n",
              "  color: #000000;\n",
              "}\n",
              "#T_678b0_row2_col1 {\n",
              "  background-color: #d2dbe8;\n",
              "  color: #000000;\n",
              "}\n",
              "#T_678b0_row2_col3, #T_678b0_row3_col0, #T_678b0_row3_col1, #T_678b0_row3_col2 {\n",
              "  background-color: #3b4cc0;\n",
              "  color: #f1f1f1;\n",
              "}\n",
              "</style>\n",
              "<table id=\"T_678b0_\" class=\"dataframe\">\n",
              "  <thead>\n",
              "    <tr>\n",
              "      <th class=\"blank level0\" >&nbsp;</th>\n",
              "      <th class=\"col_heading level0 col0\" >medv</th>\n",
              "      <th class=\"col_heading level0 col1\" >log_medv</th>\n",
              "      <th class=\"col_heading level0 col2\" >rm</th>\n",
              "      <th class=\"col_heading level0 col3\" >dis</th>\n",
              "    </tr>\n",
              "  </thead>\n",
              "  <tbody>\n",
              "    <tr>\n",
              "      <th id=\"T_678b0_level0_row0\" class=\"row_heading level0 row0\" >medv</th>\n",
              "      <td id=\"T_678b0_row0_col0\" class=\"data row0 col0\" >1.00</td>\n",
              "      <td id=\"T_678b0_row0_col1\" class=\"data row0 col1\" >0.95</td>\n",
              "      <td id=\"T_678b0_row0_col2\" class=\"data row0 col2\" >0.68</td>\n",
              "      <td id=\"T_678b0_row0_col3\" class=\"data row0 col3\" >0.21</td>\n",
              "    </tr>\n",
              "    <tr>\n",
              "      <th id=\"T_678b0_level0_row1\" class=\"row_heading level0 row1\" >log_medv</th>\n",
              "      <td id=\"T_678b0_row1_col0\" class=\"data row1 col0\" >0.95</td>\n",
              "      <td id=\"T_678b0_row1_col1\" class=\"data row1 col1\" >1.00</td>\n",
              "      <td id=\"T_678b0_row1_col2\" class=\"data row1 col2\" >0.62</td>\n",
              "      <td id=\"T_678b0_row1_col3\" class=\"data row1 col3\" >0.30</td>\n",
              "    </tr>\n",
              "    <tr>\n",
              "      <th id=\"T_678b0_level0_row2\" class=\"row_heading level0 row2\" >rm</th>\n",
              "      <td id=\"T_678b0_row2_col0\" class=\"data row2 col0\" >0.68</td>\n",
              "      <td id=\"T_678b0_row2_col1\" class=\"data row2 col1\" >0.62</td>\n",
              "      <td id=\"T_678b0_row2_col2\" class=\"data row2 col2\" >1.00</td>\n",
              "      <td id=\"T_678b0_row2_col3\" class=\"data row2 col3\" >0.18</td>\n",
              "    </tr>\n",
              "    <tr>\n",
              "      <th id=\"T_678b0_level0_row3\" class=\"row_heading level0 row3\" >dis</th>\n",
              "      <td id=\"T_678b0_row3_col0\" class=\"data row3 col0\" >0.21</td>\n",
              "      <td id=\"T_678b0_row3_col1\" class=\"data row3 col1\" >0.30</td>\n",
              "      <td id=\"T_678b0_row3_col2\" class=\"data row3 col2\" >0.18</td>\n",
              "      <td id=\"T_678b0_row3_col3\" class=\"data row3 col3\" >1.00</td>\n",
              "    </tr>\n",
              "  </tbody>\n",
              "</table>\n"
            ]
          },
          "metadata": {},
          "execution_count": 66
        }
      ]
    },
    {
      "cell_type": "markdown",
      "source": [
        "Связь между объясняющей переменной rm и прологарифмированной зависимой log_medv стала слабее."
      ],
      "metadata": {
        "id": "Y-KYt28wicHn"
      }
    },
    {
      "cell_type": "code",
      "source": [
        "corr_mat = DF.loc[DF['tax_over_400'] == 1][['medv', 'log_medv', 'rm', 'dis']].corr()\n",
        "corr_mat.style.background_gradient(cmap='coolwarm').set_precision(2)"
      ],
      "metadata": {
        "colab": {
          "base_uri": "https://localhost:8080/"
        },
        "id": "xPbhmlWKidPl",
        "outputId": "30519320-6f23-46e3-8196-9f3740eec05a"
      },
      "execution_count": null,
      "outputs": [
        {
          "output_type": "stream",
          "name": "stderr",
          "text": [
            "/usr/local/lib/python3.7/dist-packages/ipykernel_launcher.py:2: FutureWarning: this method is deprecated in favour of `Styler.format(precision=..)`\n",
            "  \n"
          ]
        },
        {
          "output_type": "execute_result",
          "data": {
            "text/plain": [
              "<pandas.io.formats.style.Styler at 0x7f00654d5a90>"
            ],
            "text/html": [
              "<style type=\"text/css\">\n",
              "#T_2f582_row0_col0, #T_2f582_row1_col1, #T_2f582_row2_col2, #T_2f582_row3_col3 {\n",
              "  background-color: #b40426;\n",
              "  color: #f1f1f1;\n",
              "}\n",
              "#T_2f582_row0_col1 {\n",
              "  background-color: #d1493f;\n",
              "  color: #f1f1f1;\n",
              "}\n",
              "#T_2f582_row0_col2 {\n",
              "  background-color: #7093f3;\n",
              "  color: #f1f1f1;\n",
              "}\n",
              "#T_2f582_row0_col3, #T_2f582_row3_col0, #T_2f582_row3_col1, #T_2f582_row3_col2 {\n",
              "  background-color: #3b4cc0;\n",
              "  color: #f1f1f1;\n",
              "}\n",
              "#T_2f582_row1_col0 {\n",
              "  background-color: #cd423b;\n",
              "  color: #f1f1f1;\n",
              "}\n",
              "#T_2f582_row1_col2 {\n",
              "  background-color: #6c8ff1;\n",
              "  color: #f1f1f1;\n",
              "}\n",
              "#T_2f582_row1_col3 {\n",
              "  background-color: #5f7fe8;\n",
              "  color: #f1f1f1;\n",
              "}\n",
              "#T_2f582_row2_col0 {\n",
              "  background-color: #8db0fe;\n",
              "  color: #000000;\n",
              "}\n",
              "#T_2f582_row2_col1 {\n",
              "  background-color: #6788ee;\n",
              "  color: #f1f1f1;\n",
              "}\n",
              "#T_2f582_row2_col3 {\n",
              "  background-color: #5977e3;\n",
              "  color: #f1f1f1;\n",
              "}\n",
              "</style>\n",
              "<table id=\"T_2f582_\" class=\"dataframe\">\n",
              "  <thead>\n",
              "    <tr>\n",
              "      <th class=\"blank level0\" >&nbsp;</th>\n",
              "      <th class=\"col_heading level0 col0\" >medv</th>\n",
              "      <th class=\"col_heading level0 col1\" >log_medv</th>\n",
              "      <th class=\"col_heading level0 col2\" >rm</th>\n",
              "      <th class=\"col_heading level0 col3\" >dis</th>\n",
              "    </tr>\n",
              "  </thead>\n",
              "  <tbody>\n",
              "    <tr>\n",
              "      <th id=\"T_2f582_level0_row0\" class=\"row_heading level0 row0\" >medv</th>\n",
              "      <td id=\"T_2f582_row0_col0\" class=\"data row0 col0\" >1.00</td>\n",
              "      <td id=\"T_2f582_row0_col1\" class=\"data row0 col1\" >0.93</td>\n",
              "      <td id=\"T_2f582_row0_col2\" class=\"data row0 col2\" >0.33</td>\n",
              "      <td id=\"T_2f582_row0_col3\" class=\"data row0 col3\" >0.10</td>\n",
              "    </tr>\n",
              "    <tr>\n",
              "      <th id=\"T_2f582_level0_row1\" class=\"row_heading level0 row1\" >log_medv</th>\n",
              "      <td id=\"T_2f582_row1_col0\" class=\"data row1 col0\" >0.93</td>\n",
              "      <td id=\"T_2f582_row1_col1\" class=\"data row1 col1\" >1.00</td>\n",
              "      <td id=\"T_2f582_row1_col2\" class=\"data row1 col2\" >0.32</td>\n",
              "      <td id=\"T_2f582_row1_col3\" class=\"data row1 col3\" >0.20</td>\n",
              "    </tr>\n",
              "    <tr>\n",
              "      <th id=\"T_2f582_level0_row2\" class=\"row_heading level0 row2\" >rm</th>\n",
              "      <td id=\"T_2f582_row2_col0\" class=\"data row2 col0\" >0.33</td>\n",
              "      <td id=\"T_2f582_row2_col1\" class=\"data row2 col1\" >0.32</td>\n",
              "      <td id=\"T_2f582_row2_col2\" class=\"data row2 col2\" >1.00</td>\n",
              "      <td id=\"T_2f582_row2_col3\" class=\"data row2 col3\" >0.19</td>\n",
              "    </tr>\n",
              "    <tr>\n",
              "      <th id=\"T_2f582_level0_row3\" class=\"row_heading level0 row3\" >dis</th>\n",
              "      <td id=\"T_2f582_row3_col0\" class=\"data row3 col0\" >0.10</td>\n",
              "      <td id=\"T_2f582_row3_col1\" class=\"data row3 col1\" >0.20</td>\n",
              "      <td id=\"T_2f582_row3_col2\" class=\"data row3 col2\" >0.19</td>\n",
              "      <td id=\"T_2f582_row3_col3\" class=\"data row3 col3\" >1.00</td>\n",
              "    </tr>\n",
              "  </tbody>\n",
              "</table>\n"
            ]
          },
          "metadata": {},
          "execution_count": 67
        }
      ]
    },
    {
      "cell_type": "code",
      "source": [
        "corr_mat = DF.loc[DF['tax_over_400'] == 0][['medv', 'log_medv', 'rm', 'dis']].corr()\n",
        "corr_mat.style.background_gradient(cmap='coolwarm').set_precision(2)"
      ],
      "metadata": {
        "colab": {
          "base_uri": "https://localhost:8080/"
        },
        "id": "uWlt-zBsih6n",
        "outputId": "562699b1-f60f-436b-daef-10c709742bbd"
      },
      "execution_count": null,
      "outputs": [
        {
          "output_type": "stream",
          "name": "stderr",
          "text": [
            "/usr/local/lib/python3.7/dist-packages/ipykernel_launcher.py:2: FutureWarning: this method is deprecated in favour of `Styler.format(precision=..)`\n",
            "  \n"
          ]
        },
        {
          "output_type": "execute_result",
          "data": {
            "text/plain": [
              "<pandas.io.formats.style.Styler at 0x7f006070e710>"
            ],
            "text/html": [
              "<style type=\"text/css\">\n",
              "#T_3ae02_row0_col0, #T_3ae02_row1_col1, #T_3ae02_row2_col2, #T_3ae02_row3_col3 {\n",
              "  background-color: #b40426;\n",
              "  color: #f1f1f1;\n",
              "}\n",
              "#T_3ae02_row0_col1, #T_3ae02_row1_col0 {\n",
              "  background-color: #ba162b;\n",
              "  color: #f1f1f1;\n",
              "}\n",
              "#T_3ae02_row0_col2 {\n",
              "  background-color: #d65244;\n",
              "  color: #f1f1f1;\n",
              "}\n",
              "#T_3ae02_row0_col3, #T_3ae02_row3_col0, #T_3ae02_row3_col1, #T_3ae02_row3_col2 {\n",
              "  background-color: #3b4cc0;\n",
              "  color: #f1f1f1;\n",
              "}\n",
              "#T_3ae02_row1_col2 {\n",
              "  background-color: #dd5f4b;\n",
              "  color: #f1f1f1;\n",
              "}\n",
              "#T_3ae02_row1_col3 {\n",
              "  background-color: #3f53c6;\n",
              "  color: #f1f1f1;\n",
              "}\n",
              "#T_3ae02_row2_col0 {\n",
              "  background-color: #d55042;\n",
              "  color: #f1f1f1;\n",
              "}\n",
              "#T_3ae02_row2_col1 {\n",
              "  background-color: #dc5d4a;\n",
              "  color: #f1f1f1;\n",
              "}\n",
              "#T_3ae02_row2_col3 {\n",
              "  background-color: #4358cb;\n",
              "  color: #f1f1f1;\n",
              "}\n",
              "</style>\n",
              "<table id=\"T_3ae02_\" class=\"dataframe\">\n",
              "  <thead>\n",
              "    <tr>\n",
              "      <th class=\"blank level0\" >&nbsp;</th>\n",
              "      <th class=\"col_heading level0 col0\" >medv</th>\n",
              "      <th class=\"col_heading level0 col1\" >log_medv</th>\n",
              "      <th class=\"col_heading level0 col2\" >rm</th>\n",
              "      <th class=\"col_heading level0 col3\" >dis</th>\n",
              "    </tr>\n",
              "  </thead>\n",
              "  <tbody>\n",
              "    <tr>\n",
              "      <th id=\"T_3ae02_level0_row0\" class=\"row_heading level0 row0\" >medv</th>\n",
              "      <td id=\"T_3ae02_row0_col0\" class=\"data row0 col0\" >1.00</td>\n",
              "      <td id=\"T_3ae02_row0_col1\" class=\"data row0 col1\" >0.98</td>\n",
              "      <td id=\"T_3ae02_row0_col2\" class=\"data row0 col2\" >0.90</td>\n",
              "      <td id=\"T_3ae02_row0_col3\" class=\"data row0 col3\" >-0.09</td>\n",
              "    </tr>\n",
              "    <tr>\n",
              "      <th id=\"T_3ae02_level0_row1\" class=\"row_heading level0 row1\" >log_medv</th>\n",
              "      <td id=\"T_3ae02_row1_col0\" class=\"data row1 col0\" >0.98</td>\n",
              "      <td id=\"T_3ae02_row1_col1\" class=\"data row1 col1\" >1.00</td>\n",
              "      <td id=\"T_3ae02_row1_col2\" class=\"data row1 col2\" >0.87</td>\n",
              "      <td id=\"T_3ae02_row1_col3\" class=\"data row1 col3\" >-0.07</td>\n",
              "    </tr>\n",
              "    <tr>\n",
              "      <th id=\"T_3ae02_level0_row2\" class=\"row_heading level0 row2\" >rm</th>\n",
              "      <td id=\"T_3ae02_row2_col0\" class=\"data row2 col0\" >0.90</td>\n",
              "      <td id=\"T_3ae02_row2_col1\" class=\"data row2 col1\" >0.87</td>\n",
              "      <td id=\"T_3ae02_row2_col2\" class=\"data row2 col2\" >1.00</td>\n",
              "      <td id=\"T_3ae02_row2_col3\" class=\"data row2 col3\" >-0.05</td>\n",
              "    </tr>\n",
              "    <tr>\n",
              "      <th id=\"T_3ae02_level0_row3\" class=\"row_heading level0 row3\" >dis</th>\n",
              "      <td id=\"T_3ae02_row3_col0\" class=\"data row3 col0\" >-0.09</td>\n",
              "      <td id=\"T_3ae02_row3_col1\" class=\"data row3 col1\" >-0.07</td>\n",
              "      <td id=\"T_3ae02_row3_col2\" class=\"data row3 col2\" >-0.05</td>\n",
              "      <td id=\"T_3ae02_row3_col3\" class=\"data row3 col3\" >1.00</td>\n",
              "    </tr>\n",
              "  </tbody>\n",
              "</table>\n"
            ]
          },
          "metadata": {},
          "execution_count": 68
        }
      ]
    },
    {
      "cell_type": "markdown",
      "source": [
        "\n",
        "Также произошло и для дискретной объясняющей переменной tax_over_400. Это значит, что ошибка модели на обучающей выборке с прологарифмированной зависимой переменной будет немного больше, чем с изначальной. Let's check it."
      ],
      "metadata": {
        "id": "LIUPs4e3imXL"
      }
    },
    {
      "cell_type": "markdown",
      "source": [
        "## Строим модели регрессии\n",
        "\n",
        "### Спецификация моделей  \n",
        "По итогам предварительного анализа данных можно предложить следующие спецификации линейных регрессионных моделей:  \n",
        "\n",
        "1. `fit_lm_1`: $\\hat{medv} = \\hat{\\beta_0} + \\hat{\\beta_1} \\cdot tax_over_400 + \\hat{\\beta_2} \\cdot rm + \\hat{\\beta_3} \\cdot dis$\n",
        "1. `fit_lm_2`: $\\hat{medv} = \\hat{\\beta_0} + \\hat{\\beta_1} \\cdot tax_over_400 + \\hat{\\beta_2} \\cdot rm \\cdot tax_over_400 + \\hat{\\beta_3} \\cdot dis$\n",
        "1. `fit_lm_3`: $\\hat{medv} = \\hat{\\beta_0} + \\hat{\\beta_1} \\cdot tax_over_400 + \\hat{\\beta_2} \\cdot dis \\cdot tax_over_400 + \\hat{\\beta_3} \\cdot rm$\n",
        "1. `fit_lm_4`: $\\hat{medv} = \\hat{\\beta_0} + \\hat{\\beta_1} \\cdot tax_over_400 + \\hat{\\beta_2} \\cdot dis \\cdot tax_over_400 + \\hat{\\beta_3} \\cdot rm \\cdot tax_over_400$\n",
        "\n",
        "1. `fit_lm_1_log`: то же, что `fit_lm_1`, но для зависимой $\\hat{log\\_medv}$  \n",
        "1. `fit_lm_2_log`: то же, что `fit_lm_2`, но для зависимой $\\hat{log\\_medv}$\n",
        "1. `fit_lm_3_log`: то же, что `fit_lm_3`, но для зависимой $\\hat{log\\_medv}$\n",
        "1. `fit_lm_4_log`: то же, что `fit_lm_4`, но для зависимой $\\hat{log\\_medv}$\n",
        "\n",
        "Кроме того, добавим в сравнение модели зависимости `medv` и `log_medv` от всех объясняющих переменных: `fit_lm_0` и `fit_lm_0_log` соответственно.  \n",
        "\n",
        "\n",
        "### Обучение и интерпретация  \n",
        "\n",
        "Создаём матрицы значений объясняющих переменных ( $X$ ) и вектора значений зависимой ( $y$ ) для всех моделей.  "
      ],
      "metadata": {
        "id": "u7oz2ZD-ivAl"
      }
    },
    {
      "cell_type": "code",
      "source": [
        "# данные для моделей 1, 5\n",
        "df1 = DF[['medv', 'tax_over_400', 'rm', 'dis']]\n",
        "\n",
        "# данные для моделей 2, 6\n",
        "df2 = DF[['medv', 'tax_over_400', 'rm', 'dis']]\n",
        "df2.loc[:, 'rm_tax_over_400'] = df2.loc[:, 'rm'] * df2.loc[:, 'tax_over_400']\n",
        "df2 = df2.drop(['rm'], axis=1)\n",
        "\n",
        "# данные для моделей 3, 7\n",
        "df3 = DF[['medv', 'tax_over_400', 'rm', 'dis']]\n",
        "df3.loc[:, 'dis_tax_over_400'] = df3.loc[:, 'dis'] * df3.loc[:, 'tax_over_400']\n",
        "df3 = df3.drop(['dis'], axis=1)\n",
        "\n",
        "# данные для моделей 4, 8\n",
        "df4 = DF[['medv', 'tax_over_400', 'rm', 'dis']]\n",
        "df4.loc[:, 'rm_tax_over_400'] = df4.loc[:, 'rm'] * df4.loc[:, 'tax_over_400']\n",
        "df4.loc[:, 'dis_tax_over_400'] = df4.loc[:, 'dis'] * df4.loc[:, 'tax_over_400']\n",
        "df4 = df4.drop(['rm', 'dis'], axis=1)\n",
        "\n",
        "# данные для моделей 9, 10\n",
        "df0 = DF.drop(['log_medv'], axis=1)"
      ],
      "metadata": {
        "id": "lyZ7HV4xk58R"
      },
      "execution_count": null,
      "outputs": []
    },
    {
      "cell_type": "code",
      "source": [
        "# проверка результатов\n",
        "df0.head(5)"
      ],
      "metadata": {
        "colab": {
          "base_uri": "https://localhost:8080/",
          "height": 206
        },
        "id": "cftQETj9k9dp",
        "outputId": "0527db05-6c89-45b8-c7fe-a64749a647d2"
      },
      "execution_count": null,
      "outputs": [
        {
          "output_type": "execute_result",
          "data": {
            "text/plain": [
              "        rm     dis  medv  tax_over_400\n",
              "105  5.851  2.1069  19.5             0\n",
              "26   5.813  4.6820  16.6             0\n",
              "180  7.765  2.7410  39.8             0\n",
              "46   5.786  5.1004  20.0             0\n",
              "76   6.279  4.0522  20.0             0"
            ],
            "text/html": [
              "\n",
              "  <div id=\"df-ae9e604a-c162-40ca-8484-1413427efba7\">\n",
              "    <div class=\"colab-df-container\">\n",
              "      <div>\n",
              "<style scoped>\n",
              "    .dataframe tbody tr th:only-of-type {\n",
              "        vertical-align: middle;\n",
              "    }\n",
              "\n",
              "    .dataframe tbody tr th {\n",
              "        vertical-align: top;\n",
              "    }\n",
              "\n",
              "    .dataframe thead th {\n",
              "        text-align: right;\n",
              "    }\n",
              "</style>\n",
              "<table border=\"1\" class=\"dataframe\">\n",
              "  <thead>\n",
              "    <tr style=\"text-align: right;\">\n",
              "      <th></th>\n",
              "      <th>rm</th>\n",
              "      <th>dis</th>\n",
              "      <th>medv</th>\n",
              "      <th>tax_over_400</th>\n",
              "    </tr>\n",
              "  </thead>\n",
              "  <tbody>\n",
              "    <tr>\n",
              "      <th>105</th>\n",
              "      <td>5.851</td>\n",
              "      <td>2.1069</td>\n",
              "      <td>19.5</td>\n",
              "      <td>0</td>\n",
              "    </tr>\n",
              "    <tr>\n",
              "      <th>26</th>\n",
              "      <td>5.813</td>\n",
              "      <td>4.6820</td>\n",
              "      <td>16.6</td>\n",
              "      <td>0</td>\n",
              "    </tr>\n",
              "    <tr>\n",
              "      <th>180</th>\n",
              "      <td>7.765</td>\n",
              "      <td>2.7410</td>\n",
              "      <td>39.8</td>\n",
              "      <td>0</td>\n",
              "    </tr>\n",
              "    <tr>\n",
              "      <th>46</th>\n",
              "      <td>5.786</td>\n",
              "      <td>5.1004</td>\n",
              "      <td>20.0</td>\n",
              "      <td>0</td>\n",
              "    </tr>\n",
              "    <tr>\n",
              "      <th>76</th>\n",
              "      <td>6.279</td>\n",
              "      <td>4.0522</td>\n",
              "      <td>20.0</td>\n",
              "      <td>0</td>\n",
              "    </tr>\n",
              "  </tbody>\n",
              "</table>\n",
              "</div>\n",
              "      <button class=\"colab-df-convert\" onclick=\"convertToInteractive('df-ae9e604a-c162-40ca-8484-1413427efba7')\"\n",
              "              title=\"Convert this dataframe to an interactive table.\"\n",
              "              style=\"display:none;\">\n",
              "        \n",
              "  <svg xmlns=\"http://www.w3.org/2000/svg\" height=\"24px\"viewBox=\"0 0 24 24\"\n",
              "       width=\"24px\">\n",
              "    <path d=\"M0 0h24v24H0V0z\" fill=\"none\"/>\n",
              "    <path d=\"M18.56 5.44l.94 2.06.94-2.06 2.06-.94-2.06-.94-.94-2.06-.94 2.06-2.06.94zm-11 1L8.5 8.5l.94-2.06 2.06-.94-2.06-.94L8.5 2.5l-.94 2.06-2.06.94zm10 10l.94 2.06.94-2.06 2.06-.94-2.06-.94-.94-2.06-.94 2.06-2.06.94z\"/><path d=\"M17.41 7.96l-1.37-1.37c-.4-.4-.92-.59-1.43-.59-.52 0-1.04.2-1.43.59L10.3 9.45l-7.72 7.72c-.78.78-.78 2.05 0 2.83L4 21.41c.39.39.9.59 1.41.59.51 0 1.02-.2 1.41-.59l7.78-7.78 2.81-2.81c.8-.78.8-2.07 0-2.86zM5.41 20L4 18.59l7.72-7.72 1.47 1.35L5.41 20z\"/>\n",
              "  </svg>\n",
              "      </button>\n",
              "      \n",
              "  <style>\n",
              "    .colab-df-container {\n",
              "      display:flex;\n",
              "      flex-wrap:wrap;\n",
              "      gap: 12px;\n",
              "    }\n",
              "\n",
              "    .colab-df-convert {\n",
              "      background-color: #E8F0FE;\n",
              "      border: none;\n",
              "      border-radius: 50%;\n",
              "      cursor: pointer;\n",
              "      display: none;\n",
              "      fill: #1967D2;\n",
              "      height: 32px;\n",
              "      padding: 0 0 0 0;\n",
              "      width: 32px;\n",
              "    }\n",
              "\n",
              "    .colab-df-convert:hover {\n",
              "      background-color: #E2EBFA;\n",
              "      box-shadow: 0px 1px 2px rgba(60, 64, 67, 0.3), 0px 1px 3px 1px rgba(60, 64, 67, 0.15);\n",
              "      fill: #174EA6;\n",
              "    }\n",
              "\n",
              "    [theme=dark] .colab-df-convert {\n",
              "      background-color: #3B4455;\n",
              "      fill: #D2E3FC;\n",
              "    }\n",
              "\n",
              "    [theme=dark] .colab-df-convert:hover {\n",
              "      background-color: #434B5C;\n",
              "      box-shadow: 0px 1px 3px 1px rgba(0, 0, 0, 0.15);\n",
              "      filter: drop-shadow(0px 1px 2px rgba(0, 0, 0, 0.3));\n",
              "      fill: #FFFFFF;\n",
              "    }\n",
              "  </style>\n",
              "\n",
              "      <script>\n",
              "        const buttonEl =\n",
              "          document.querySelector('#df-ae9e604a-c162-40ca-8484-1413427efba7 button.colab-df-convert');\n",
              "        buttonEl.style.display =\n",
              "          google.colab.kernel.accessAllowed ? 'block' : 'none';\n",
              "\n",
              "        async function convertToInteractive(key) {\n",
              "          const element = document.querySelector('#df-ae9e604a-c162-40ca-8484-1413427efba7');\n",
              "          const dataTable =\n",
              "            await google.colab.kernel.invokeFunction('convertToInteractive',\n",
              "                                                     [key], {});\n",
              "          if (!dataTable) return;\n",
              "\n",
              "          const docLinkHtml = 'Like what you see? Visit the ' +\n",
              "            '<a target=\"_blank\" href=https://colab.research.google.com/notebooks/data_table.ipynb>data table notebook</a>'\n",
              "            + ' to learn more about interactive tables.';\n",
              "          element.innerHTML = '';\n",
              "          dataTable['output_type'] = 'display_data';\n",
              "          await google.colab.output.renderOutput(dataTable, element);\n",
              "          const docLink = document.createElement('div');\n",
              "          docLink.innerHTML = docLinkHtml;\n",
              "          element.appendChild(docLink);\n",
              "        }\n",
              "      </script>\n",
              "    </div>\n",
              "  </div>\n",
              "  "
            ]
          },
          "metadata": {},
          "execution_count": 70
        }
      ]
    },
    {
      "cell_type": "markdown",
      "source": [
        "Построим модели от всех объясняющих переменных на всех наблюдениях DF, чтобы проинтерпретировать параметры. В модели для зависимой переменной medv интерпретация стандартная:\n",
        "\n",
        "Константа – базовый уровень зависимой переменной, когда все объясняющие равны 0.\n",
        "Коэффициент при объясняющей переменной  показывает, на сколько своих единиц измерения изменится , если  увеличится на одну свою единицу измерения."
      ],
      "metadata": {
        "id": "cqEBHqJClCn-"
      }
    },
    {
      "cell_type": "code",
      "source": [
        "lm = skl_lm.LinearRegression()\n",
        "\n",
        "# модель со всеми объясняющими, y\n",
        "X = df0.drop(['medv'], axis=1)\n",
        "y = df0.medv.values.reshape(-1, 1)\n",
        "fit_lm_0 = lm.fit(X, y)\n",
        "print('модель fit_lm_0:\\n', \n",
        "      'константа ', np.around(fit_lm_0.intercept_, 3),\n",
        "      '\\n объясняющие ', list(X.columns.values),\n",
        "      '\\n коэффициенты ', np.around(fit_lm_0.coef_, 3))"
      ],
      "metadata": {
        "colab": {
          "base_uri": "https://localhost:8080/"
        },
        "id": "z2pfx_G9lMJo",
        "outputId": "6400b44e-eebf-47cb-c741-e3eab11f3016"
      },
      "execution_count": null,
      "outputs": [
        {
          "output_type": "stream",
          "name": "stdout",
          "text": [
            "модель fit_lm_0:\n",
            " константа  [-25.671] \n",
            " объясняющие  ['rm', 'dis', 'tax_over_400'] \n",
            " коэффициенты  [[ 8.087 -0.199 -4.421]]\n"
          ]
        }
      ]
    },
    {
      "cell_type": "code",
      "source": [
        "# оценим MSE на обучающей\n",
        "#  прогнозы\n",
        "y_pred = fit_lm_0.predict(X)\n",
        "MSE = sum((y - y_pred.reshape(-1, 1))**2) / len(y)\n",
        "np.sqrt(MSE)"
      ],
      "metadata": {
        "colab": {
          "base_uri": "https://localhost:8080/"
        },
        "id": "elOkw-8IlQPq",
        "outputId": "5d2e749f-af00-4bb1-9402-096b1c0c97e7"
      },
      "execution_count": null,
      "outputs": [
        {
          "output_type": "execute_result",
          "data": {
            "text/plain": [
              "array([6.42665934])"
            ]
          },
          "metadata": {},
          "execution_count": 72
        }
      ]
    },
    {
      "cell_type": "markdown",
      "source": [
        "С интерпретацией модели на логарифме  дела обстоят сложнее:\n",
        "\n",
        "Константу сначала надо экспоненциировать, далее интерпретировать как для обычной модели регрессии.\n",
        "Коэффициент при  нужно экспоненциировать, затем вычесть из получившегося числа 1, затем умножить на 100. Результат показывает, на сколько процентов изменится (увеличится, если коэффициент положительный, и уменьшится, если отрицательный) зависимая переменная, если  увеличится на одну свою единицу измерения."
      ],
      "metadata": {
        "id": "4_w5rnAWlVAy"
      }
    },
    {
      "cell_type": "code",
      "source": [
        "# модель со всеми объясняющими, y_log\n",
        "X = df0.drop(['medv'], axis=1)\n",
        "y = np.log(df0.medv).values.reshape(-1, 1)\n",
        "fit_lm_0_log = lm.fit(X, y)\n",
        "print('модель fit_lm_0_log:\\n', \n",
        "      'константа ', np.around(fit_lm_0_log.intercept_, 3),\n",
        "      '\\n объясняющие ', list(X.columns.values),\n",
        "      '\\n коэффициенты ', np.around(fit_lm_0_log.coef_, 3))"
      ],
      "metadata": {
        "colab": {
          "base_uri": "https://localhost:8080/"
        },
        "id": "JMTLJd21lY_4",
        "outputId": "fdf07743-a3f5-4bd1-ccf5-f8e20bda9954"
      },
      "execution_count": null,
      "outputs": [
        {
          "output_type": "stream",
          "name": "stdout",
          "text": [
            "модель fit_lm_0_log:\n",
            " константа  [1.213] \n",
            " объясняющие  ['rm', 'dis', 'tax_over_400'] \n",
            " коэффициенты  [[ 0.304  0.005 -0.255]]\n"
          ]
        }
      ]
    },
    {
      "cell_type": "code",
      "source": [
        "# пересчёт коэффициентов для их интерпретации\n",
        "np.around((np.exp(fit_lm_0_log.coef_) - 1) * 100, 1)"
      ],
      "metadata": {
        "colab": {
          "base_uri": "https://localhost:8080/"
        },
        "id": "wR-6orCTlbyC",
        "outputId": "a0028c92-3058-422a-a2ab-36937931e7c4"
      },
      "execution_count": null,
      "outputs": [
        {
          "output_type": "execute_result",
          "data": {
            "text/plain": [
              "array([[ 35.5,   0.5, -22.5]])"
            ]
          },
          "metadata": {},
          "execution_count": 74
        }
      ]
    },
    {
      "cell_type": "code",
      "source": [
        "# оценим MSE на обучающей\n",
        "#  прогнозы\n",
        "y_pred = fit_lm_0_log.predict(X)\n",
        "MSE_log = sum((np.exp(y) - np.exp(y_pred).reshape(-1, 1))**2) / len(y)\n",
        "np.sqrt(MSE_log)"
      ],
      "metadata": {
        "colab": {
          "base_uri": "https://localhost:8080/"
        },
        "id": "gg8JfkQDld6X",
        "outputId": "01b55cd7-c2bd-42f5-f154-d7bde15964b9"
      },
      "execution_count": null,
      "outputs": [
        {
          "output_type": "execute_result",
          "data": {
            "text/plain": [
              "array([6.15327605])"
            ]
          },
          "metadata": {},
          "execution_count": 75
        }
      ]
    },
    {
      "cell_type": "code",
      "source": [
        "print('MSE_train модели для medv меньше MSE_train',\n",
        "     'модели для log(medv) в ', np.around(MSE_log / MSE, 1), 'раз')"
      ],
      "metadata": {
        "colab": {
          "base_uri": "https://localhost:8080/"
        },
        "id": "iBoharCEliQt",
        "outputId": "714b6b3b-b555-45be-e6a9-9d0f067eb89c"
      },
      "execution_count": null,
      "outputs": [
        {
          "output_type": "stream",
          "name": "stdout",
          "text": [
            "MSE_train модели для medv меньше MSE_train модели для log(medv) в  [0.9] раз\n"
          ]
        }
      ]
    },
    {
      "cell_type": "markdown",
      "source": [
        "Действительно. Так произошло, потому что корреляция стала меньше для объясняющих переменных и прологарифмированной зависимой."
      ],
      "metadata": {
        "id": "YhEFDaXUlpfe"
      }
    },
    {
      "cell_type": "markdown",
      "source": [
        "### Оценка точности\n"
      ],
      "metadata": {
        "id": "6RpT7httlvLh"
      }
    },
    {
      "cell_type": "markdown",
      "source": [
        "#### Перекрёстная проверка по блокам    \n",
        "\n",
        "Теоретически этот метод менее затратен, чем LOOCV. Проверим на наших моделях.  "
      ],
      "metadata": {
        "id": "nAKP1QMRmjwt"
      }
    },
    {
      "cell_type": "code",
      "source": [
        "# Перекрёстная проверка по 10 блокам\n",
        "folds = 5\n",
        "\n",
        "# ядра для разбиений перекрёстной проверкой\n",
        "r_state = np.arange(my_seed, my_seed + 5)\n",
        "\n",
        "# модели для y\n",
        "scores = list()\n",
        "# таймер\n",
        "tic = time.perf_counter()\n",
        "i = 0\n",
        "for df in [df0, df1, df2, df3, df4] :\n",
        "    X = df.drop(['medv'], axis=1)\n",
        "    y = df.medv\n",
        "    kf_10 = KFold(n_splits=folds, random_state=r_state[i],\n",
        "                 shuffle=True)\n",
        "    score = cross_val_score(lm, X, y, cv=kf_10,\n",
        "                            scoring='neg_mean_squared_error').mean()\n",
        "    scores.append(score)\n",
        "    i+=1\n",
        "\n",
        "# таймер\n",
        "toc = time.perf_counter()\n",
        "print(f\"Расчёты методом CV по 10 блокам заняли {toc - tic:0.2f} секунд\")"
      ],
      "metadata": {
        "colab": {
          "base_uri": "https://localhost:8080/"
        },
        "id": "B0k8i-lLmnCk",
        "outputId": "c4ad43f5-1025-4d4c-c849-91054a865470"
      },
      "execution_count": null,
      "outputs": [
        {
          "output_type": "stream",
          "name": "stdout",
          "text": [
            "Расчёты методом CV по 10 блокам заняли 0.15 секунд\n"
          ]
        }
      ]
    },
    {
      "cell_type": "code",
      "source": [
        "# Перекрёстная проверка по 10 блокам\n",
        "folds = 5\n",
        "\n",
        "# ядра для разбиений перекрёстной проверкой\n",
        "r_state = np.arange(my_seed, my_seed + 5)\n",
        "\n",
        "# модели для y\n",
        "scores_log = list()\n",
        "# таймер\n",
        "tic = time.perf_counter()\n",
        "i = 0\n",
        "for df in [df0, df1, df2, df3, df4] :\n",
        "    X = df.drop(['medv'], axis=1)\n",
        "    y = np.log(df.medv)\n",
        "    kf_10 = KFold(n_splits=folds, random_state=r_state[i],\n",
        "                 shuffle=True)\n",
        "    score = cross_val_score(lm, X, y, cv=kf_10,\n",
        "                            scoring='neg_mean_squared_error').mean()\n",
        "    scores_log.append(score)\n",
        "    i+=1\n",
        "\n",
        "# таймер\n",
        "toc = time.perf_counter()\n",
        "print(f\"Расчёты методом CV по 10 блокам заняли {toc - tic:0.2f} секунд\")"
      ],
      "metadata": {
        "colab": {
          "base_uri": "https://localhost:8080/"
        },
        "id": "XUo10IRqsITU",
        "outputId": "9255ab99-f150-43d1-ba9b-804c12958d40"
      },
      "execution_count": null,
      "outputs": [
        {
          "output_type": "stream",
          "name": "stdout",
          "text": [
            "Расчёты методом CV по 10 блокам заняли 0.14 секунд\n"
          ]
        }
      ]
    },
    {
      "cell_type": "code",
      "source": [
        "scores"
      ],
      "metadata": {
        "colab": {
          "base_uri": "https://localhost:8080/"
        },
        "id": "aQ1zzBMspQ2l",
        "outputId": "54bdd9fe-e945-4b3b-931d-61bd24007085"
      },
      "execution_count": null,
      "outputs": [
        {
          "output_type": "execute_result",
          "data": {
            "text/plain": [
              "[-42.049847399187676,\n",
              " -42.267278254405966,\n",
              " -70.15555932930565,\n",
              " -42.61097155757153,\n",
              " -69.08134287469854]"
            ]
          },
          "metadata": {},
          "execution_count": 117
        }
      ]
    },
    {
      "cell_type": "code",
      "source": [
        "[np.around(-x, 2) for x in scores]"
      ],
      "metadata": {
        "colab": {
          "base_uri": "https://localhost:8080/"
        },
        "id": "RyA9OzkbpeZC",
        "outputId": "7ce21dc4-b88d-4cbf-bf43-6035c29b08f5"
      },
      "execution_count": null,
      "outputs": [
        {
          "output_type": "execute_result",
          "data": {
            "text/plain": [
              "[42.05, 42.27, 70.16, 42.61, 69.08]"
            ]
          },
          "metadata": {},
          "execution_count": 118
        }
      ]
    },
    {
      "cell_type": "code",
      "source": [
        "# самая точная на medv\n",
        "fits = ['fit_lm_0', 'fit_lm_1', 'fit_lm_2', 'fit_lm_3', 'fit_lm_4']\n",
        "print('Наименьшая ошибка на тестовой с k-fold10 у модели',\n",
        "      fits[scores.index(max(scores))], \n",
        "      ':\\nMSE_kf5 =', np.around(-max(scores), 0))"
      ],
      "metadata": {
        "colab": {
          "base_uri": "https://localhost:8080/"
        },
        "id": "9jZqmktNphbK",
        "outputId": "a352d884-46d4-4bed-d394-43b67b8daaf8"
      },
      "execution_count": null,
      "outputs": [
        {
          "output_type": "stream",
          "name": "stdout",
          "text": [
            "Наименьшая ошибка на тестовой с k-fold10 у модели fit_lm_0 :\n",
            "MSE_kf5 = 42.0\n"
          ]
        }
      ]
    },
    {
      "cell_type": "code",
      "source": [
        "[np.around(-x, 5) for x in scores_log]"
      ],
      "metadata": {
        "colab": {
          "base_uri": "https://localhost:8080/"
        },
        "id": "exAY6UpqpnVJ",
        "outputId": "f750daca-030b-42ee-bcad-d928d6966d87"
      },
      "execution_count": null,
      "outputs": [
        {
          "output_type": "execute_result",
          "data": {
            "text/plain": [
              "[0.08499, 0.08629, 0.12291, 0.08599, 0.12035]"
            ]
          },
          "metadata": {},
          "execution_count": 120
        }
      ]
    },
    {
      "cell_type": "code",
      "source": [
        "# самая точная на log(medv)\n",
        "fits = ['fit_lm_0_log', 'fit_lm_1_log', 'fit_lm_2_log', \n",
        "        'fit_lm_3_log', 'fit_lm_4_log']\n",
        "print('Наименьшая ошибка на тестовой с k-fold10 у модели',\n",
        "      fits[scores_log.index(max(scores_log))], \n",
        "      ':\\nMSE_kf5 =', np.around(-max(scores_log), 3))"
      ],
      "metadata": {
        "colab": {
          "base_uri": "https://localhost:8080/"
        },
        "id": "3PR-TXOWp51t",
        "outputId": "15181df1-abfe-43d6-8bd6-c530295cd814"
      },
      "execution_count": null,
      "outputs": [
        {
          "output_type": "stream",
          "name": "stdout",
          "text": [
            "Наименьшая ошибка на тестовой с k-fold10 у модели fit_lm_0_log :\n",
            "MSE_kf5 = 0.085\n"
          ]
        }
      ]
    },
    {
      "cell_type": "markdown",
      "source": [
        "Самой точной среди моделей для medv оказалась fit_lm_0, а среди моделей для medv_log – fit_lm_0_log. Оценим точность прогноза по этим моделям на отложенные наблюдения."
      ],
      "metadata": {
        "id": "9Gjhi-fJqCsu"
      }
    },
    {
      "cell_type": "code",
      "source": [
        "# прогноз по fit_lm_0\n",
        "#  модель на всех обучающих наблюдениях\n",
        "X = df0.drop(['medv'], axis=1)\n",
        "y = df0.medv.values.reshape(-1, 1)\n",
        "fit_lm_0 = lm.fit(X, y)\n",
        "\n",
        "#  значения y на отложенных наблюдениях\n",
        "y = DF_predict[['medv']].values.reshape(-1, 1)\n",
        "#  матрица объясняющих на отложенных наблюдениях\n",
        "X = DF_predict.drop(['medv'], axis=1)\n",
        "\n",
        "#  прогнозы\n",
        "y_pred = fit_lm_0.predict(X)\n",
        "\n",
        "# ошибка\n",
        "MSE = sum((y - y_pred.reshape(-1, 1))**2) / len(y)\n",
        "print('MSE модели fit_lm_0 на отложенных наблюдениях = %.2f' % MSE)"
      ],
      "metadata": {
        "colab": {
          "base_uri": "https://localhost:8080/"
        },
        "id": "gshELYL0qWQY",
        "outputId": "7056db39-55b0-4d93-da93-613008a18b64"
      },
      "execution_count": null,
      "outputs": [
        {
          "output_type": "stream",
          "name": "stdout",
          "text": [
            "MSE модели fit_lm_0 на отложенных наблюдениях = 32.66\n"
          ]
        }
      ]
    },
    {
      "cell_type": "code",
      "source": [
        "y_pred[:10]"
      ],
      "metadata": {
        "colab": {
          "base_uri": "https://localhost:8080/"
        },
        "id": "g46ilq_1qZDJ",
        "outputId": "21f950a7-7e04-4d8e-8bd8-86f4971936ae"
      },
      "execution_count": null,
      "outputs": [
        {
          "output_type": "execute_result",
          "data": {
            "text/plain": [
              "array([[25.26365832],\n",
              "       [29.71150953],\n",
              "       [30.91642588],\n",
              "       [25.11827136],\n",
              "       [21.83798551],\n",
              "       [22.59920771],\n",
              "       [23.41528112],\n",
              "       [22.42105102],\n",
              "       [31.21643959],\n",
              "       [21.21537763]])"
            ]
          },
          "metadata": {},
          "execution_count": 123
        }
      ]
    },
    {
      "cell_type": "code",
      "source": [
        "# прогноз по fit_lm_log_0\n",
        "# модель\n",
        "X = df0.drop(['medv'], axis=1)\n",
        "y = np.log(df0.medv).values.reshape(-1, 1)\n",
        "fit_lm_0_log = lm.fit(X, y)\n",
        "\n",
        "#  значения y на отложенных наблюдениях\n",
        "y = np.log(DF_predict[['medv']].values.reshape(-1, 1))\n",
        "#  матрица объясняющих на отложенных наблюдениях\n",
        "X = DF_predict.drop(['medv'], axis=1)\n",
        "\n",
        "#  прогнозы\n",
        "y_pred = fit_lm_0_log.predict(X)\n",
        "\n",
        "# ошибка\n",
        "MSE_log = sum((np.exp(y) - np.exp(y_pred).reshape(-1, 1))**2) / len(y)\n",
        "print('MSE модели fit_lm_0_log на отложенных наблюдениях = %.2f' % MSE_log)"
      ],
      "metadata": {
        "colab": {
          "base_uri": "https://localhost:8080/"
        },
        "id": "yrRc5oKEqc8C",
        "outputId": "547a4055-110a-4930-a81b-ece71058a0f0"
      },
      "execution_count": null,
      "outputs": [
        {
          "output_type": "stream",
          "name": "stdout",
          "text": [
            "MSE модели fit_lm_0_log на отложенных наблюдениях = 27.68\n"
          ]
        }
      ]
    },
    {
      "cell_type": "code",
      "source": [
        "y_pred[:10]"
      ],
      "metadata": {
        "colab": {
          "base_uri": "https://localhost:8080/"
        },
        "id": "Bfpx64b_qgqW",
        "outputId": "1770a102-c922-4a1a-f5ee-898155f73e00"
      },
      "execution_count": null,
      "outputs": [
        {
          "output_type": "execute_result",
          "data": {
            "text/plain": [
              "array([[3.18837712],\n",
              "       [3.36928631],\n",
              "       [3.41452732],\n",
              "       [3.19682395],\n",
              "       [3.06728839],\n",
              "       [3.07827681],\n",
              "       [3.1285479 ],\n",
              "       [3.10510669],\n",
              "       [3.45924377],\n",
              "       [3.05988551]])"
            ]
          },
          "metadata": {},
          "execution_count": 125
        }
      ]
    },
    {
      "cell_type": "code",
      "source": [
        "np.around(np.sqrt(MSE) / np.mean(DF_predict[['medv']]) * 100, 1)"
      ],
      "metadata": {
        "colab": {
          "base_uri": "https://localhost:8080/"
        },
        "id": "LVfFKTR5q8V0",
        "outputId": "d423753f-1ab7-4ae0-ab3f-b7e4d933df10"
      },
      "execution_count": null,
      "outputs": [
        {
          "output_type": "execute_result",
          "data": {
            "text/plain": [
              "medv    25.2\n",
              "dtype: float64"
            ]
          },
          "metadata": {},
          "execution_count": 126
        }
      ]
    },
    {
      "cell_type": "code",
      "source": [
        "np.around(np.sqrt(MSE_log) / np.mean(DF_predict[['medv']]) * 100, 1)"
      ],
      "metadata": {
        "colab": {
          "base_uri": "https://localhost:8080/"
        },
        "id": "JDNcC4flq_lE",
        "outputId": "ecd6ecff-2152-4191-8b58-85f90c17fc42"
      },
      "execution_count": null,
      "outputs": [
        {
          "output_type": "execute_result",
          "data": {
            "text/plain": [
              "medv    23.2\n",
              "dtype: float64"
            ]
          },
          "metadata": {},
          "execution_count": 127
        }
      ]
    },
    {
      "cell_type": "markdown",
      "source": [
        "Очевидно, на выборке для прогноза точнее модель fit_lm_0_log: она содержит все объясняющие переменные."
      ],
      "metadata": {
        "id": "F412jzoCrEeO"
      }
    },
    {
      "cell_type": "code",
      "source": [
        "X = df0.drop(['medv'], axis=1)\n",
        "y = np.log(df0.medv).values.reshape(-1, 1)\n",
        "fit_lm_0_log = lm.fit(X, y)\n",
        "\n",
        "#  значения y на отложенных наблюдениях\n",
        "y = np.log(DF_predict[['medv']].values.reshape(-1, 1))\n",
        "#  матрица объясняющих на отложенных наблюдениях\n",
        "X = DF_predict.drop(['medv'], axis=1)\n",
        "\n",
        "#  прогнозы\n",
        "y_pred = fit_lm_0_log.predict(X)\n",
        "\n",
        "print('модель fit_lm_0_log:\\n', \n",
        "      'константа ', np.around(fit_lm_0_log.intercept_, 3),\n",
        "      '\\n объясняющие ', list(df0.drop(['medv'], axis=1).columns.values),\n",
        "      '\\n коэффициенты ', np.around(fit_lm_0_log.coef_, 3))"
      ],
      "metadata": {
        "colab": {
          "base_uri": "https://localhost:8080/"
        },
        "id": "BOJy_p8TrWV0",
        "outputId": "952aed2b-d5af-4a16-8ab1-fc3779e8614f"
      },
      "execution_count": null,
      "outputs": [
        {
          "output_type": "stream",
          "name": "stdout",
          "text": [
            "модель fit_lm_0_log:\n",
            " константа  [1.213] \n",
            " объясняющие  ['rm', 'dis', 'tax_over_400'] \n",
            " коэффициенты  [[ 0.304  0.005 -0.255]]\n"
          ]
        }
      ]
    },
    {
      "cell_type": "markdown",
      "source": [
        "Для интерпретации параметров прологарифмированной модели необходимо их экспоненциировать."
      ],
      "metadata": {
        "id": "l6ViPot9v1ZR"
      }
    },
    {
      "cell_type": "code",
      "source": [
        "const_exp = np.exp(fit_lm_0_log.intercept_)\n",
        "coef_exp = np.exp(fit_lm_0_log.coef_)\n",
        "coef_exp_final = [(x-1)*100 for x in coef_exp]\n",
        "print('Константа:', float(np.around(const_exp, 3)))"
      ],
      "metadata": {
        "colab": {
          "base_uri": "https://localhost:8080/"
        },
        "id": "Gdwt9Cy9v6xH",
        "outputId": "2fe5aaee-f525-41b4-832b-6be59c367de1"
      },
      "execution_count": null,
      "outputs": [
        {
          "output_type": "stream",
          "name": "stdout",
          "text": [
            "Константа: 3.363\n"
          ]
        }
      ]
    },
    {
      "cell_type": "code",
      "source": [
        "print('Объясняющие:', list(df0.drop(['medv'], axis=1).columns.values),\n",
        "      '\\nКоэффициенты:', (np.around(coef_exp_final, 3)))"
      ],
      "metadata": {
        "colab": {
          "base_uri": "https://localhost:8080/"
        },
        "id": "rVnuElCuv-LY",
        "outputId": "b6b412bc-cf04-4ee6-8173-7abab4feb2be"
      },
      "execution_count": null,
      "outputs": [
        {
          "output_type": "stream",
          "name": "stdout",
          "text": [
            "Объясняющие: ['rm', 'dis', 'tax_over_400'] \n",
            "Коэффициенты: [[ 35.477   0.523 -22.518]]\n"
          ]
        }
      ]
    },
    {
      "cell_type": "markdown",
      "source": [
        "### Интерпретация параметров модели\n",
        "Y = 3.167 + 36.548rm + 0.804dis - 23.255tax_over_400\n",
        "\n",
        "Ошибка модели на отложенных наблюдениях составила 27.1% от среднего значения Y\n",
        "Если объясняющие переменные будут равняться нулю, то Y равен константе = 3.167.\n",
        "При увеличении rm на единицу, Y увеличится на 36.548. При увеличении dis на единицу, Y увеличится на 0.804. При значении дискретной переменной tax_over_400 = 1, Y уменьшается на 23.255, а при значении равном нулю, значение Y зависит только от непрерывных переменных.\n",
        "Проверим нашу модель на выборке."
      ],
      "metadata": {
        "id": "neJ91VpWwPh_"
      }
    },
    {
      "cell_type": "code",
      "source": [
        "y_pred = fit_lm_0_log.predict(X[:10])\n",
        "np.exp(y_pred)"
      ],
      "metadata": {
        "colab": {
          "base_uri": "https://localhost:8080/"
        },
        "id": "Mwa9b0ORwUnM",
        "outputId": "80f36b94-580e-41a8-8d3c-9a30528ce66d"
      },
      "execution_count": null,
      "outputs": [
        {
          "output_type": "execute_result",
          "data": {
            "text/plain": [
              "array([[24.24904222],\n",
              "       [29.05778141],\n",
              "       [30.40257526],\n",
              "       [24.45473717],\n",
              "       [21.48356855],\n",
              "       [21.72094086],\n",
              "       [22.84078828],\n",
              "       [22.31159935],\n",
              "       [31.79292461],\n",
              "       [21.3251156 ]])"
            ]
          },
          "metadata": {},
          "execution_count": 131
        }
      ]
    },
    {
      "cell_type": "code",
      "source": [
        "DF_predict.head(10)"
      ],
      "metadata": {
        "colab": {
          "base_uri": "https://localhost:8080/",
          "height": 363
        },
        "id": "wSEIGlZJwbC5",
        "outputId": "ec750ac2-ffe0-4e1b-a127-b4e69b17a9d6"
      },
      "execution_count": null,
      "outputs": [
        {
          "output_type": "execute_result",
          "data": {
            "text/plain": [
              "       rm     dis  medv  tax_over_400\n",
              "1   6.421  4.9671  21.6             0\n",
              "3   6.998  6.0622  33.4             0\n",
              "4   7.147  6.0622  36.2             0\n",
              "5   6.430  6.0622  28.7             0\n",
              "6   6.012  5.5605  22.9             0\n",
              "31  6.072  4.1750  14.5             0\n",
              "43  6.211  5.7209  24.7             0\n",
              "51  6.115  6.8147  20.5             0\n",
              "55  7.249  8.6966  35.4             0\n",
              "61  5.966  6.8185  16.0             0"
            ],
            "text/html": [
              "\n",
              "  <div id=\"df-4d3cec40-f705-4d85-a5d4-f3b22686fa79\">\n",
              "    <div class=\"colab-df-container\">\n",
              "      <div>\n",
              "<style scoped>\n",
              "    .dataframe tbody tr th:only-of-type {\n",
              "        vertical-align: middle;\n",
              "    }\n",
              "\n",
              "    .dataframe tbody tr th {\n",
              "        vertical-align: top;\n",
              "    }\n",
              "\n",
              "    .dataframe thead th {\n",
              "        text-align: right;\n",
              "    }\n",
              "</style>\n",
              "<table border=\"1\" class=\"dataframe\">\n",
              "  <thead>\n",
              "    <tr style=\"text-align: right;\">\n",
              "      <th></th>\n",
              "      <th>rm</th>\n",
              "      <th>dis</th>\n",
              "      <th>medv</th>\n",
              "      <th>tax_over_400</th>\n",
              "    </tr>\n",
              "  </thead>\n",
              "  <tbody>\n",
              "    <tr>\n",
              "      <th>1</th>\n",
              "      <td>6.421</td>\n",
              "      <td>4.9671</td>\n",
              "      <td>21.6</td>\n",
              "      <td>0</td>\n",
              "    </tr>\n",
              "    <tr>\n",
              "      <th>3</th>\n",
              "      <td>6.998</td>\n",
              "      <td>6.0622</td>\n",
              "      <td>33.4</td>\n",
              "      <td>0</td>\n",
              "    </tr>\n",
              "    <tr>\n",
              "      <th>4</th>\n",
              "      <td>7.147</td>\n",
              "      <td>6.0622</td>\n",
              "      <td>36.2</td>\n",
              "      <td>0</td>\n",
              "    </tr>\n",
              "    <tr>\n",
              "      <th>5</th>\n",
              "      <td>6.430</td>\n",
              "      <td>6.0622</td>\n",
              "      <td>28.7</td>\n",
              "      <td>0</td>\n",
              "    </tr>\n",
              "    <tr>\n",
              "      <th>6</th>\n",
              "      <td>6.012</td>\n",
              "      <td>5.5605</td>\n",
              "      <td>22.9</td>\n",
              "      <td>0</td>\n",
              "    </tr>\n",
              "    <tr>\n",
              "      <th>31</th>\n",
              "      <td>6.072</td>\n",
              "      <td>4.1750</td>\n",
              "      <td>14.5</td>\n",
              "      <td>0</td>\n",
              "    </tr>\n",
              "    <tr>\n",
              "      <th>43</th>\n",
              "      <td>6.211</td>\n",
              "      <td>5.7209</td>\n",
              "      <td>24.7</td>\n",
              "      <td>0</td>\n",
              "    </tr>\n",
              "    <tr>\n",
              "      <th>51</th>\n",
              "      <td>6.115</td>\n",
              "      <td>6.8147</td>\n",
              "      <td>20.5</td>\n",
              "      <td>0</td>\n",
              "    </tr>\n",
              "    <tr>\n",
              "      <th>55</th>\n",
              "      <td>7.249</td>\n",
              "      <td>8.6966</td>\n",
              "      <td>35.4</td>\n",
              "      <td>0</td>\n",
              "    </tr>\n",
              "    <tr>\n",
              "      <th>61</th>\n",
              "      <td>5.966</td>\n",
              "      <td>6.8185</td>\n",
              "      <td>16.0</td>\n",
              "      <td>0</td>\n",
              "    </tr>\n",
              "  </tbody>\n",
              "</table>\n",
              "</div>\n",
              "      <button class=\"colab-df-convert\" onclick=\"convertToInteractive('df-4d3cec40-f705-4d85-a5d4-f3b22686fa79')\"\n",
              "              title=\"Convert this dataframe to an interactive table.\"\n",
              "              style=\"display:none;\">\n",
              "        \n",
              "  <svg xmlns=\"http://www.w3.org/2000/svg\" height=\"24px\"viewBox=\"0 0 24 24\"\n",
              "       width=\"24px\">\n",
              "    <path d=\"M0 0h24v24H0V0z\" fill=\"none\"/>\n",
              "    <path d=\"M18.56 5.44l.94 2.06.94-2.06 2.06-.94-2.06-.94-.94-2.06-.94 2.06-2.06.94zm-11 1L8.5 8.5l.94-2.06 2.06-.94-2.06-.94L8.5 2.5l-.94 2.06-2.06.94zm10 10l.94 2.06.94-2.06 2.06-.94-2.06-.94-.94-2.06-.94 2.06-2.06.94z\"/><path d=\"M17.41 7.96l-1.37-1.37c-.4-.4-.92-.59-1.43-.59-.52 0-1.04.2-1.43.59L10.3 9.45l-7.72 7.72c-.78.78-.78 2.05 0 2.83L4 21.41c.39.39.9.59 1.41.59.51 0 1.02-.2 1.41-.59l7.78-7.78 2.81-2.81c.8-.78.8-2.07 0-2.86zM5.41 20L4 18.59l7.72-7.72 1.47 1.35L5.41 20z\"/>\n",
              "  </svg>\n",
              "      </button>\n",
              "      \n",
              "  <style>\n",
              "    .colab-df-container {\n",
              "      display:flex;\n",
              "      flex-wrap:wrap;\n",
              "      gap: 12px;\n",
              "    }\n",
              "\n",
              "    .colab-df-convert {\n",
              "      background-color: #E8F0FE;\n",
              "      border: none;\n",
              "      border-radius: 50%;\n",
              "      cursor: pointer;\n",
              "      display: none;\n",
              "      fill: #1967D2;\n",
              "      height: 32px;\n",
              "      padding: 0 0 0 0;\n",
              "      width: 32px;\n",
              "    }\n",
              "\n",
              "    .colab-df-convert:hover {\n",
              "      background-color: #E2EBFA;\n",
              "      box-shadow: 0px 1px 2px rgba(60, 64, 67, 0.3), 0px 1px 3px 1px rgba(60, 64, 67, 0.15);\n",
              "      fill: #174EA6;\n",
              "    }\n",
              "\n",
              "    [theme=dark] .colab-df-convert {\n",
              "      background-color: #3B4455;\n",
              "      fill: #D2E3FC;\n",
              "    }\n",
              "\n",
              "    [theme=dark] .colab-df-convert:hover {\n",
              "      background-color: #434B5C;\n",
              "      box-shadow: 0px 1px 3px 1px rgba(0, 0, 0, 0.15);\n",
              "      filter: drop-shadow(0px 1px 2px rgba(0, 0, 0, 0.3));\n",
              "      fill: #FFFFFF;\n",
              "    }\n",
              "  </style>\n",
              "\n",
              "      <script>\n",
              "        const buttonEl =\n",
              "          document.querySelector('#df-4d3cec40-f705-4d85-a5d4-f3b22686fa79 button.colab-df-convert');\n",
              "        buttonEl.style.display =\n",
              "          google.colab.kernel.accessAllowed ? 'block' : 'none';\n",
              "\n",
              "        async function convertToInteractive(key) {\n",
              "          const element = document.querySelector('#df-4d3cec40-f705-4d85-a5d4-f3b22686fa79');\n",
              "          const dataTable =\n",
              "            await google.colab.kernel.invokeFunction('convertToInteractive',\n",
              "                                                     [key], {});\n",
              "          if (!dataTable) return;\n",
              "\n",
              "          const docLinkHtml = 'Like what you see? Visit the ' +\n",
              "            '<a target=\"_blank\" href=https://colab.research.google.com/notebooks/data_table.ipynb>data table notebook</a>'\n",
              "            + ' to learn more about interactive tables.';\n",
              "          element.innerHTML = '';\n",
              "          dataTable['output_type'] = 'display_data';\n",
              "          await google.colab.output.renderOutput(dataTable, element);\n",
              "          const docLink = document.createElement('div');\n",
              "          docLink.innerHTML = docLinkHtml;\n",
              "          element.appendChild(docLink);\n",
              "        }\n",
              "      </script>\n",
              "    </div>\n",
              "  </div>\n",
              "  "
            ]
          },
          "metadata": {},
          "execution_count": 132
        }
      ]
    },
    {
      "cell_type": "markdown",
      "source": [
        "Можно заметить, что значения Y в отложенной выборке и предсказанные моделью значения довольно схожи."
      ],
      "metadata": {
        "id": "fLqVzOoFwd0P"
      }
    },
    {
      "cell_type": "markdown",
      "source": [
        "# Источники \n",
        "\n",
        "1. *James G., Witten D., Hastie T. and Tibshirani R.*  An Introduction to Statistical Learning with Applications in R. URL: [http://www-bcf.usc.edu/~gareth/ISL/ISLR%20First%20Printing.pdf](https://drive.google.com/file/d/15PdWDMf9hkfP8mrCzql_cNiX2eckLDRw/view?usp=sharing)     \n",
        "1. Рашка С. Python и машинное обучение: крайне необходимое пособие по новейшей предсказательной аналитике, обязательное для более глубокого понимания методологии машинного обучения / пер. с англ. А.В. Логунова. – М.: ДМК Пресс, 2017. – 418 с.: ил.\n",
        "1. Interpreting Log Transformations in a Linear Model / virginia.edu. URL: <https://data.library.virginia.edu/interpreting-log-transformations-in-a-linear-model/>  \n",
        "1. Python Timer Functions: Three Ways to Monitor Your Code / realpython.com. URL: <https://realpython.com/python-timer/>  "
      ],
      "metadata": {
        "id": "UlVp3WQRwhsx"
      }
    }
  ]
}